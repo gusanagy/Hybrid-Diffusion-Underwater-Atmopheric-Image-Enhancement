{
 "cells": [
  {
   "cell_type": "markdown",
   "metadata": {},
   "source": [
    "# Treino"
   ]
  },
  {
   "cell_type": "code",
   "execution_count": 1,
   "metadata": {},
   "outputs": [
    {
     "name": "stdout",
     "output_type": "stream",
     "text": [
      "\n",
      "🔧 Configurações Finais:\n",
      "{'DDP': False,\n",
      " 'T': 1000,\n",
      " 'atmospheric_data_name': 'LoLI',\n",
      " 'attn': [2],\n",
      " 'batch_size': 1,\n",
      " 'beta_1': 0.0001,\n",
      " 'beta_T': 0.02,\n",
      " 'channel': 128,\n",
      " 'channel_mult': [1, 2, 2, 2],\n",
      " 'dataset_path': './data/',\n",
      " 'ddim': True,\n",
      " 'ddim_step': 100,\n",
      " 'device': 'cuda',\n",
      " 'device_list': [0],\n",
      " 'dropout': 0.15,\n",
      " 'epoch': 2000,\n",
      " 'epochs_stage_1': 11,\n",
      " 'epochs_stage_2': 11,\n",
      " 'grad_clip': 1.0,\n",
      " 'img_size': 32,\n",
      " 'inference_image': '',\n",
      " 'lr': 5e-05,\n",
      " 'model': 'standart',\n",
      " 'multiplier': 2.0,\n",
      " 'num_res_blocks': 2,\n",
      " 'output_path': './output/',\n",
      " 'pretrained_path': None,\n",
      " 'save_checkpoint': 200,\n",
      " 'stage': 0,\n",
      " 'state': 'train',\n",
      " 'supervised': True,\n",
      " 'unconditional_guidance_scale': 1,\n",
      " 'underwater_data_name': 'HICRD',\n",
      " 'wandb': False,\n",
      " 'wandb_name': 'HybridDffusion_4_ICAR'}\n",
      "Treinando modelo\n",
      "Using cache found in /home/pdi_4/.cache/torch/hub/facebookresearch_dinov2_main\n",
      "/home/pdi_4/.cache/torch/hub/facebookresearch_dinov2_main/dinov2/layers/swiglu_ffn.py:51: UserWarning: xFormers is not available (SwiGLU)\n",
      "  warnings.warn(\"xFormers is not available (SwiGLU)\")\n",
      "/home/pdi_4/.cache/torch/hub/facebookresearch_dinov2_main/dinov2/layers/attention.py:33: UserWarning: xFormers is not available (Attention)\n",
      "  warnings.warn(\"xFormers is not available (Attention)\")\n",
      "/home/pdi_4/.cache/torch/hub/facebookresearch_dinov2_main/dinov2/layers/block.py:40: UserWarning: xFormers is not available (Block)\n",
      "  warnings.warn(\"xFormers is not available (Block)\")\n",
      "Starting stage: Atmosferic with LR: 5e-05 for 11 epochs, Identificador 0\n",
      "\n",
      "100%|███████████████████████████████████████| 1500/1500 [08:09<00:00,  3.10it/s]0{'epoch_local': 0, 'epoch_global': 0, 'batch': 1501, 'LR': 5e-05, 'val/psnr': 5.929350908492792, 'val/ssim': 0.5907627867852376, 'val/uiqm': 2.6139254465417356, 'val/uciqe': 426.61798270750626, 'val/uism': 7.726505166538334, 'val/uicm': 1.6241792375847655, 'val/uiconm': -0.121413190165082}\n",
      "100%|███████████████████████████████████████| 1500/1500 [08:09<00:00,  3.06it/s]\n",
      "/home/pdi_4/anaconda3/envs/CLEDiff/lib/python3.11/site-packages/torch/optim/lr_scheduler.py:143: UserWarning: Detected call of `lr_scheduler.step()` before `optimizer.step()`. In PyTorch 1.1.0 and later, you should call them in the opposite order: `optimizer.step()` before `lr_scheduler.step()`.  Failure to do this will result in PyTorch skipping the first value of the learning rate schedule. See more details at https://pytorch.org/docs/stable/optim.html#how-to-adjust-learning-rate\n",
      "  warnings.warn(\"Detected call of `lr_scheduler.step()` before `optimizer.step()`. \"\n",
      "Evaluating checkpoint at epoch 0 for stage Atmosferic\n",
      " 12%|████▉                                   | 184/1500 [00:59<07:02,  3.11it/s]\n",
      "Traceback (most recent call last):\n",
      "  File \"/home/pdi_4/Documentos/Diffusion-Underwater-Image-Enhancement/Main.py\", line 122, in <module>\n",
      "    main()\n",
      "  File \"/home/pdi_4/Documentos/Diffusion-Underwater-Image-Enhancement/Main.py\", line 107, in main\n",
      "    train(config)\n",
      "  File \"/home/pdi_4/Documentos/Diffusion-Underwater-Image-Enhancement/utils/rotinas.py\", line 453, in train\n",
      "    loss, num = val_with_dataloaders(\n",
      "                ^^^^^^^^^^^^^^^^^^^^^\n",
      "  File \"/home/pdi_4/Documentos/Diffusion-Underwater-Image-Enhancement/utils/rotinas.py\", line 189, in val_with_dataloaders\n",
      "    uiqm0, uciqe0, uism, uicm, uiconm = nmetrics(res_img)\n",
      "                                        ^^^^^^^^^^^^^^^^^\n",
      "  File \"/home/pdi_4/Documentos/Diffusion-Underwater-Image-Enhancement/metrics/metrics.py\", line 382, in nmetrics\n",
      "    uiconm = logamee(gray)\n",
      "             ^^^^^^^^^^^^^\n",
      "  File \"/home/pdi_4/Documentos/Diffusion-Underwater-Image-Enhancement/metrics/metrics.py\", line 471, in logamee\n",
      "    s += m * np.log(m)\n",
      "             ^^^^^^^^^\n",
      "KeyboardInterrupt\n",
      "^C\n"
     ]
    }
   ],
   "source": [
    "!python Main.py \\\n",
    "--underwater_data_name \"HICRD\" \\\n",
    "--atmospheric_data_name \"LoLI\" \\\n",
    "--epochs_stage_1 11 \\\n",
    "--epochs_stage_2 11 \\\n",
    "--batch_size 1 \\\n",
    "--wandb_name \"HybridDffusion_4_ICAR\" \\\n",
    "--output_path \"./output/\""
   ]
  },
  {
   "cell_type": "markdown",
   "metadata": {},
   "source": [
    "# Testes nos modelos"
   ]
  },
  {
   "cell_type": "markdown",
   "metadata": {},
   "source": [
    "## UIEB TM-DIED"
   ]
  },
  {
   "cell_type": "code",
   "execution_count": 2,
   "metadata": {},
   "outputs": [
    {
     "name": "stdout",
     "output_type": "stream",
     "text": [
      "Namespace(underwater_data_name='UIEB', atmospheric_data_name='TM-DIED', model='standart', dataset_path='./data/', state='eval', pretrained_path='output/ckpt/ckpt_400_Pre-Training_VGG+Charbonnier_UIEBTM-DIED.pt', inference_image='', output_path='./output/', wandb=False, wandb_name='HybridDffusion_2', epoch=1000, batch_size=16, DDP=False, stage=0, epochs_stage_3=200, epochs_stage_1=400, epochs_stage_2=400, supervised=True, underwater_dataset_name='UIEB', atmospheric_dataset_name='HDR+', T=1000, channel=64, channel_mult=[1, 2, 2, 2], attn=[2], num_res_blocks=2, dropout=0.15, lr=5e-05, multiplier=2.0, beta_1=0.0001, beta_T=0.02, img_size=32, grad_clip=1.0, device='cuda', device_list=[0, 1], ddim=True, unconditional_guidance_scale=1, ddim_step=100)\n",
      "1000\n",
      "Avaliando modelo\n",
      "model load weight done.\n",
      "output/result/ckpt_400_Pre-Training_VGG+Charbonnier_UIEBTM-DIED.pt/TM-DIED/ output/result/ckpt_400_Pre-Training_VGG+Charbonnier_UIEBTM-DIED.pt/UIEB/\n",
      "Save dir underwater for combination UIEBTM-DIED: output/result/ckpt_400_Pre-Training_VGG+Charbonnier_UIEBTM-DIED.pt/UIEB/\n",
      "Save dir atmospheric for combination UIEBTM-DIED: output/result/ckpt_400_Pre-Training_VGG+Charbonnier_UIEBTM-DIED.pt/TM-DIED/\n",
      "/home/pdi_4/anaconda3/envs/CLEDiff/lib/python3.11/site-packages/torchvision/models/_utils.py:208: UserWarning: The parameter 'pretrained' is deprecated since 0.13 and may be removed in the future, please use 'weights' instead.\n",
      "  warnings.warn(\n",
      "/home/pdi_4/anaconda3/envs/CLEDiff/lib/python3.11/site-packages/torchvision/models/_utils.py:223: UserWarning: Arguments other than a weight enum or `None` for 'weights' are deprecated since 0.13 and may be removed in the future. The current behavior is equivalent to passing `weights=Inception_V3_Weights.IMAGENET1K_V1`. You can also use `weights=Inception_V3_Weights.DEFAULT` to get the most up-to-date weights.\n",
      "  warnings.warn(msg)\n",
      "model load weight done.\n",
      "Avaliando Modelo ckpt_400_Pre-Training_VGG+Charbonnier_UIEBTM-DIED.pt subaquatico UIEB\n",
      "\n",
      "100%|█████████████████████████████████████████████| 5/5 [03:26<00:00, 41.25s/it]\n",
      "Avaliando Modelo ckpt_400_Pre-Training_VGG+Charbonnier_UIEBTM-DIED.pt atmosferico TM-DIED\n",
      "\n",
      "100%|█████████████████████████████████████████████| 1/1 [00:43<00:00, 43.72s/it]\n",
      "Test completed.\n"
     ]
    }
   ],
   "source": [
    "!python Main.py --pretrained_path \"output/ckpt/ckpt_400_Pre-Training_VGG+Charbonnier_UIEBTM-DIED.pt\" --underwater_data_name \"UIEB\" --atmospheric_data_name \"TM-DIED\" --state 'eval'"
   ]
  },
  {
   "cell_type": "code",
   "execution_count": 3,
   "metadata": {},
   "outputs": [
    {
     "name": "stdout",
     "output_type": "stream",
     "text": [
      "Namespace(underwater_data_name='UIEB', atmospheric_data_name='TM-DIED', model='standart', dataset_path='./data/', state='eval', pretrained_path='output/ckpt/ckpt_800_Enhancement_Training_(Charbonnier+Angular_Color_Loss+MS_SSIM)_UIEBTM-DIED.pt', inference_image='', output_path='./output/', wandb=False, wandb_name='HybridDffusion_2', epoch=1000, batch_size=16, DDP=False, stage=0, epochs_stage_3=200, epochs_stage_1=400, epochs_stage_2=400, supervised=True, underwater_dataset_name='UIEB', atmospheric_dataset_name='HDR+', T=1000, channel=64, channel_mult=[1, 2, 2, 2], attn=[2], num_res_blocks=2, dropout=0.15, lr=5e-05, multiplier=2.0, beta_1=0.0001, beta_T=0.02, img_size=32, grad_clip=1.0, device='cuda', device_list=[0, 1], ddim=True, unconditional_guidance_scale=1, ddim_step=100)\n",
      "1000\n",
      "Avaliando modelo\n",
      "model load weight done.\n",
      "output/result/ckpt_800_Enhancement_Training_(Charbonnier+Angular_Color_Loss+MS_SSIM)_UIEBTM-DIED.pt/TM-DIED/ output/result/ckpt_800_Enhancement_Training_(Charbonnier+Angular_Color_Loss+MS_SSIM)_UIEBTM-DIED.pt/UIEB/\n",
      "Save dir underwater for combination UIEBTM-DIED: output/result/ckpt_800_Enhancement_Training_(Charbonnier+Angular_Color_Loss+MS_SSIM)_UIEBTM-DIED.pt/UIEB/\n",
      "Save dir atmospheric for combination UIEBTM-DIED: output/result/ckpt_800_Enhancement_Training_(Charbonnier+Angular_Color_Loss+MS_SSIM)_UIEBTM-DIED.pt/TM-DIED/\n",
      "/home/pdi_4/anaconda3/envs/CLEDiff/lib/python3.11/site-packages/torchvision/models/_utils.py:208: UserWarning: The parameter 'pretrained' is deprecated since 0.13 and may be removed in the future, please use 'weights' instead.\n",
      "  warnings.warn(\n",
      "/home/pdi_4/anaconda3/envs/CLEDiff/lib/python3.11/site-packages/torchvision/models/_utils.py:223: UserWarning: Arguments other than a weight enum or `None` for 'weights' are deprecated since 0.13 and may be removed in the future. The current behavior is equivalent to passing `weights=Inception_V3_Weights.IMAGENET1K_V1`. You can also use `weights=Inception_V3_Weights.DEFAULT` to get the most up-to-date weights.\n",
      "  warnings.warn(msg)\n",
      "model load weight done.\n",
      "Avaliando Modelo ckpt_800_Enhancement_Training_(Charbonnier+Angular_Color_Loss+MS_SSIM)_UIEBTM-DIED.pt subaquatico UIEB\n",
      "\n",
      "  0%|                                                     | 0/5 [00:00<?, ?it/s]/home/pdi_4/Documentos/Diffusion-Underwater-Image-Enhancement/metrics/metrics.py:124: RuntimeWarning: divide by zero encountered in divide\n",
      "  mag *= 255.0 / np.max(mag)\n",
      "/home/pdi_4/Documentos/Diffusion-Underwater-Image-Enhancement/metrics/metrics.py:124: RuntimeWarning: invalid value encountered in multiply\n",
      "  mag *= 255.0 / np.max(mag)\n",
      "100%|█████████████████████████████████████████████| 5/5 [03:19<00:00, 39.85s/it]\n",
      "Avaliando Modelo ckpt_800_Enhancement_Training_(Charbonnier+Angular_Color_Loss+MS_SSIM)_UIEBTM-DIED.pt atmosferico TM-DIED\n",
      "\n",
      "100%|█████████████████████████████████████████████| 1/1 [00:42<00:00, 42.79s/it]\n",
      "Test completed.\n"
     ]
    }
   ],
   "source": [
    "!python Main.py --pretrained_path \"output/ckpt/ckpt_800_Enhancement_Training_(Charbonnier+Angular_Color_Loss+MS_SSIM)_UIEBTM-DIED.pt\" --underwater_data_name \"UIEB\" --atmospheric_data_name \"TM-DIED\" --state 'eval'"
   ]
  },
  {
   "cell_type": "code",
   "execution_count": 3,
   "metadata": {},
   "outputs": [
    {
     "name": "stdout",
     "output_type": "stream",
     "text": [
      "Namespace(underwater_data_name='UIEB', atmospheric_data_name='TM-DIED', model='standart', dataset_path='./data/', state='eval', pretrained_path='output/ckpt/ckpt/ckpt_800_Pre-Training_UIEBTM-DIED.pt', inference_image='', output_path='./output/', wandb=False, wandb_name='HybridDffusion_3', epoch=2000, batch_size=4, DDP=False, stage=0, epochs_stage_3=1000, epochs_stage_1=1000, epochs_stage_2=1000, device='cuda', supervised=True, underwater_dataset_name='UIEB', atmospheric_dataset_name='HDR+', T=1000, channel=128, channel_mult=[1, 2, 2, 2], attn=[2], num_res_blocks=2, dropout=0.15, lr=5e-05, multiplier=2.0, beta_1=0.0001, beta_T=0.02, img_size=32, grad_clip=1.0, device_list=[0, 1], ddim=True, unconditional_guidance_scale=1, ddim_step=100)\n",
      "2000\n",
      "Avaliando modelo\n",
      "model load weight done.\n",
      "output/result/ckpt_800_Pre-Training_UIEBTM-DIED.pt/TM-DIED/ output/result/ckpt_800_Pre-Training_UIEBTM-DIED.pt/UIEB/\n",
      "Save dir underwater for combination UIEBTM-DIED: output/result/ckpt_800_Pre-Training_UIEBTM-DIED.pt/UIEB/\n",
      "Save dir atmospheric for combination UIEBTM-DIED: output/result/ckpt_800_Pre-Training_UIEBTM-DIED.pt/TM-DIED/\n",
      "/home/pdi_4/anaconda3/envs/CLEDiff/lib/python3.11/site-packages/torchvision/models/_utils.py:208: UserWarning: The parameter 'pretrained' is deprecated since 0.13 and may be removed in the future, please use 'weights' instead.\n",
      "  warnings.warn(\n",
      "/home/pdi_4/anaconda3/envs/CLEDiff/lib/python3.11/site-packages/torchvision/models/_utils.py:223: UserWarning: Arguments other than a weight enum or `None` for 'weights' are deprecated since 0.13 and may be removed in the future. The current behavior is equivalent to passing `weights=Inception_V3_Weights.IMAGENET1K_V1`. You can also use `weights=Inception_V3_Weights.DEFAULT` to get the most up-to-date weights.\n",
      "  warnings.warn(msg)\n",
      "model load weight done.\n",
      "Avaliando Modelo ckpt_800_Pre-Training_UIEBTM-DIED.pt subaquatico UIEB\n",
      "\n",
      "  0%|                                                    | 0/20 [00:00<?, ?it/s]/home/pdi_4/Documentos/Diffusion-Underwater-Image-Enhancement/metrics/metrics.py:124: RuntimeWarning: divide by zero encountered in divide\n",
      "  mag *= 255.0 / np.max(mag)\n",
      "/home/pdi_4/Documentos/Diffusion-Underwater-Image-Enhancement/metrics/metrics.py:124: RuntimeWarning: invalid value encountered in multiply\n",
      "  mag *= 255.0 / np.max(mag)\n",
      " 10%|████▍                                       | 2/20 [00:52<07:49, 26.07s/it]/home/pdi_4/anaconda3/envs/CLEDiff/lib/python3.11/site-packages/scipy/linalg/_matfuncs_sqrtm.py:205: RuntimeWarning: invalid value encountered in scalar divide\n",
      "  arg2 = norm(X.dot(X) - A, 'fro')**2 / norm(A, 'fro')\n",
      "100%|███████████████████████████████████████████| 20/20 [08:26<00:00, 25.34s/it]\n",
      "80 80 0 80 80 80 80 80\n",
      "Avaliando Modelo ckpt_800_Pre-Training_UIEBTM-DIED.pt atmosferico TM-DIED\n",
      "\n",
      "100%|█████████████████████████████████████████████| 5/5 [02:06<00:00, 25.36s/it]\n",
      "Test completed.\n"
     ]
    }
   ],
   "source": [
    "!python Main.py --pretrained_path \"output/ckpt/ckpt/ckpt_800_Pre-Training_UIEBTM-DIED.pt\" --underwater_data_name \"UIEB\" --atmospheric_data_name \"TM-DIED\" --state 'eval' --batch_size 4"
   ]
  },
  {
   "cell_type": "markdown",
   "metadata": {},
   "source": [
    "## HCIRD TM-DIED"
   ]
  },
  {
   "cell_type": "code",
   "execution_count": 5,
   "metadata": {},
   "outputs": [
    {
     "name": "stdout",
     "output_type": "stream",
     "text": [
      "Namespace(underwater_data_name='HICRD', atmospheric_data_name='TM-DIED', model='standart', dataset_path='./data/', state='eval', pretrained_path='output/ckpt/ckpt_400_Pre-Training_VGG+Charbonnier_HICRDTM-DIED.pt', inference_image='', output_path='./output/', wandb=False, wandb_name='HybridDffusion_2', epoch=1000, batch_size=16, DDP=False, stage=0, epochs_stage_3=200, epochs_stage_1=400, epochs_stage_2=400, supervised=True, underwater_dataset_name='UIEB', atmospheric_dataset_name='HDR+', T=1000, channel=64, channel_mult=[1, 2, 2, 2], attn=[2], num_res_blocks=2, dropout=0.15, lr=5e-05, multiplier=2.0, beta_1=0.0001, beta_T=0.02, img_size=32, grad_clip=1.0, device='cuda', device_list=[0, 1], ddim=True, unconditional_guidance_scale=1, ddim_step=100)\n",
      "1000\n",
      "Avaliando modelo\n",
      "model load weight done.\n",
      "output/result/ckpt_400_Pre-Training_VGG+Charbonnier_HICRDTM-DIED.pt/TM-DIED/ output/result/ckpt_400_Pre-Training_VGG+Charbonnier_HICRDTM-DIED.pt/HICRD/\n",
      "Save dir underwater for combination HICRDTM-DIED: output/result/ckpt_400_Pre-Training_VGG+Charbonnier_HICRDTM-DIED.pt/HICRD/\n",
      "Save dir atmospheric for combination HICRDTM-DIED: output/result/ckpt_400_Pre-Training_VGG+Charbonnier_HICRDTM-DIED.pt/TM-DIED/\n",
      "/home/pdi_4/anaconda3/envs/CLEDiff/lib/python3.11/site-packages/torchvision/models/_utils.py:208: UserWarning: The parameter 'pretrained' is deprecated since 0.13 and may be removed in the future, please use 'weights' instead.\n",
      "  warnings.warn(\n",
      "/home/pdi_4/anaconda3/envs/CLEDiff/lib/python3.11/site-packages/torchvision/models/_utils.py:223: UserWarning: Arguments other than a weight enum or `None` for 'weights' are deprecated since 0.13 and may be removed in the future. The current behavior is equivalent to passing `weights=Inception_V3_Weights.IMAGENET1K_V1`. You can also use `weights=Inception_V3_Weights.DEFAULT` to get the most up-to-date weights.\n",
      "  warnings.warn(msg)\n",
      "model load weight done.\n",
      "Avaliando Modelo ckpt_400_Pre-Training_VGG+Charbonnier_HICRDTM-DIED.pt subaquatico HICRD\n",
      "\n",
      " 20%|████████▊                                   | 2/10 [01:22<05:28, 41.12s/it]/home/pdi_4/anaconda3/envs/CLEDiff/lib/python3.11/site-packages/scipy/linalg/_matfuncs_sqrtm.py:205: RuntimeWarning: invalid value encountered in scalar divide\n",
      "  arg2 = norm(X.dot(X) - A, 'fro')**2 / norm(A, 'fro')\n",
      "100%|███████████████████████████████████████████| 10/10 [06:41<00:00, 40.18s/it]\n",
      "Avaliando Modelo ckpt_400_Pre-Training_VGG+Charbonnier_HICRDTM-DIED.pt atmosferico TM-DIED\n",
      "\n",
      "100%|█████████████████████████████████████████████| 1/1 [00:44<00:00, 44.05s/it]\n",
      "Test completed.\n"
     ]
    }
   ],
   "source": [
    "!python Main.py --pretrained_path \"output/ckpt/ckpt_400_Pre-Training_VGG+Charbonnier_HICRDTM-DIED.pt\" --underwater_data_name \"HICRD\" --atmospheric_data_name \"TM-DIED\" --state 'eval'"
   ]
  },
  {
   "cell_type": "code",
   "execution_count": 3,
   "metadata": {},
   "outputs": [
    {
     "name": "stdout",
     "output_type": "stream",
     "text": [
      "Namespace(underwater_data_name='HICRD', atmospheric_data_name='TM-DIED', model='standart', dataset_path='./data/', state='eval', pretrained_path='output/ckpt/ckpt_800_Enhancement_Training_(Charbonnier+Angular_Color_Loss+MS_SSIM)_HICRDTM-DIED.pt', inference_image='', output_path='./output/', wandb=False, wandb_name='HybridDffusion_2', epoch=1000, batch_size=16, DDP=False, stage=0, epochs_stage_3=200, epochs_stage_1=400, epochs_stage_2=400, supervised=True, underwater_dataset_name='UIEB', atmospheric_dataset_name='HDR+', T=1000, channel=64, channel_mult=[1, 2, 2, 2], attn=[2], num_res_blocks=2, dropout=0.15, lr=5e-05, multiplier=2.0, beta_1=0.0001, beta_T=0.02, img_size=32, grad_clip=1.0, device='cuda', device_list=[0, 1], ddim=True, unconditional_guidance_scale=1, ddim_step=100)\n",
      "1000\n",
      "Avaliando modelo\n",
      "model load weight done.\n",
      "output/result/ckpt_800_Enhancement_Training_(Charbonnier+Angular_Color_Loss+MS_SSIM)_HICRDTM-DIED.pt/TM-DIED/ output/result/ckpt_800_Enhancement_Training_(Charbonnier+Angular_Color_Loss+MS_SSIM)_HICRDTM-DIED.pt/HICRD/\n",
      "Save dir underwater for combination HICRDTM-DIED: output/result/ckpt_800_Enhancement_Training_(Charbonnier+Angular_Color_Loss+MS_SSIM)_HICRDTM-DIED.pt/HICRD/\n",
      "Save dir atmospheric for combination HICRDTM-DIED: output/result/ckpt_800_Enhancement_Training_(Charbonnier+Angular_Color_Loss+MS_SSIM)_HICRDTM-DIED.pt/TM-DIED/\n",
      "/home/pdi_4/anaconda3/envs/CLEDiff/lib/python3.11/site-packages/torchvision/models/_utils.py:208: UserWarning: The parameter 'pretrained' is deprecated since 0.13 and may be removed in the future, please use 'weights' instead.\n",
      "  warnings.warn(\n",
      "/home/pdi_4/anaconda3/envs/CLEDiff/lib/python3.11/site-packages/torchvision/models/_utils.py:223: UserWarning: Arguments other than a weight enum or `None` for 'weights' are deprecated since 0.13 and may be removed in the future. The current behavior is equivalent to passing `weights=Inception_V3_Weights.IMAGENET1K_V1`. You can also use `weights=Inception_V3_Weights.DEFAULT` to get the most up-to-date weights.\n",
      "  warnings.warn(msg)\n",
      "model load weight done.\n",
      "Avaliando Modelo ckpt_800_Enhancement_Training_(Charbonnier+Angular_Color_Loss+MS_SSIM)_HICRDTM-DIED.pt subaquatico HICRD\n",
      "\n",
      "  0%|                                                    | 0/10 [00:00<?, ?it/s]/home/pdi_4/Documentos/Diffusion-Underwater-Image-Enhancement/metrics/metrics.py:124: RuntimeWarning: divide by zero encountered in divide\n",
      "  mag *= 255.0 / np.max(mag)\n",
      "/home/pdi_4/Documentos/Diffusion-Underwater-Image-Enhancement/metrics/metrics.py:124: RuntimeWarning: invalid value encountered in multiply\n",
      "  mag *= 255.0 / np.max(mag)\n",
      " 20%|████████▊                                   | 2/10 [01:18<05:12, 39.08s/it]/home/pdi_4/anaconda3/envs/CLEDiff/lib/python3.11/site-packages/scipy/linalg/_matfuncs_sqrtm.py:205: RuntimeWarning: invalid value encountered in scalar divide\n",
      "  arg2 = norm(X.dot(X) - A, 'fro')**2 / norm(A, 'fro')\n",
      "100%|███████████████████████████████████████████| 10/10 [06:01<00:00, 36.11s/it]\n",
      "160 160 0 160 160 160 160 160\n",
      "Avaliando Modelo ckpt_800_Enhancement_Training_(Charbonnier+Angular_Color_Loss+MS_SSIM)_HICRDTM-DIED.pt atmosferico TM-DIED\n",
      "\n",
      "100%|█████████████████████████████████████████████| 1/1 [00:40<00:00, 40.47s/it]\n",
      "Test completed.\n"
     ]
    }
   ],
   "source": [
    "!python Main.py --pretrained_path \"output/ckpt/ckpt_800_Enhancement_Training_(Charbonnier+Angular_Color_Loss+MS_SSIM)_HICRDTM-DIED.pt\" --underwater_data_name \"HICRD\" --atmospheric_data_name \"TM-DIED\" --state 'eval'"
   ]
  },
  {
   "cell_type": "code",
   "execution_count": 2,
   "metadata": {},
   "outputs": [
    {
     "name": "stdout",
     "output_type": "stream",
     "text": [
      "Namespace(underwater_data_name='HICRD', atmospheric_data_name='TM-DIED', model='standart', dataset_path='./data/', state='eval', pretrained_path='output/ckpt/ckpt_1000_final_HICRDTM-DIED.pt', inference_image='', output_path='./output/', wandb=False, wandb_name='HybridDffusion_2', epoch=1000, batch_size=16, DDP=False, stage=0, epochs_stage_3=200, epochs_stage_1=400, epochs_stage_2=400, supervised=True, underwater_dataset_name='UIEB', atmospheric_dataset_name='HDR+', T=1000, channel=64, channel_mult=[1, 2, 2, 2], attn=[2], num_res_blocks=2, dropout=0.15, lr=5e-05, multiplier=2.0, beta_1=0.0001, beta_T=0.02, img_size=32, grad_clip=1.0, device='cuda', device_list=[0, 1], ddim=True, unconditional_guidance_scale=1, ddim_step=100)\n",
      "1000\n",
      "Avaliando modelo\n",
      "model load weight done.\n",
      "output/result/ckpt_1000_final_HICRDTM-DIED.pt/TM-DIED/ output/result/ckpt_1000_final_HICRDTM-DIED.pt/HICRD/\n",
      "Save dir underwater for combination HICRDTM-DIED: output/result/ckpt_1000_final_HICRDTM-DIED.pt/HICRD/\n",
      "Save dir atmospheric for combination HICRDTM-DIED: output/result/ckpt_1000_final_HICRDTM-DIED.pt/TM-DIED/\n",
      "/home/pdi_4/anaconda3/envs/CLEDiff/lib/python3.11/site-packages/torchvision/models/_utils.py:208: UserWarning: The parameter 'pretrained' is deprecated since 0.13 and may be removed in the future, please use 'weights' instead.\n",
      "  warnings.warn(\n",
      "/home/pdi_4/anaconda3/envs/CLEDiff/lib/python3.11/site-packages/torchvision/models/_utils.py:223: UserWarning: Arguments other than a weight enum or `None` for 'weights' are deprecated since 0.13 and may be removed in the future. The current behavior is equivalent to passing `weights=Inception_V3_Weights.IMAGENET1K_V1`. You can also use `weights=Inception_V3_Weights.DEFAULT` to get the most up-to-date weights.\n",
      "  warnings.warn(msg)\n",
      "model load weight done.\n",
      "Avaliando Modelo ckpt_1000_final_HICRDTM-DIED.pt subaquatico HICRD\n",
      "\n",
      "  0%|                                                    | 0/10 [00:00<?, ?it/s]/home/pdi_4/Documentos/Diffusion-Underwater-Image-Enhancement/metrics/metrics.py:124: RuntimeWarning: divide by zero encountered in divide\n",
      "  mag *= 255.0 / np.max(mag)\n",
      "/home/pdi_4/Documentos/Diffusion-Underwater-Image-Enhancement/metrics/metrics.py:124: RuntimeWarning: invalid value encountered in multiply\n",
      "  mag *= 255.0 / np.max(mag)\n",
      " 20%|████████▊                                   | 2/10 [01:20<05:19, 39.88s/it]/home/pdi_4/anaconda3/envs/CLEDiff/lib/python3.11/site-packages/scipy/linalg/_matfuncs_sqrtm.py:205: RuntimeWarning: invalid value encountered in scalar divide\n",
      "  arg2 = norm(X.dot(X) - A, 'fro')**2 / norm(A, 'fro')\n",
      "100%|███████████████████████████████████████████| 10/10 [06:20<00:00, 38.10s/it]\n",
      "160 160 0 160 160 160 160 160\n",
      "Avaliando Modelo ckpt_1000_final_HICRDTM-DIED.pt atmosferico TM-DIED\n",
      "\n",
      "100%|█████████████████████████████████████████████| 1/1 [00:42<00:00, 42.47s/it]\n",
      "Test completed.\n"
     ]
    }
   ],
   "source": [
    "!python Main.py --pretrained_path \"output/ckpt/ckpt_1000_final_HICRDTM-DIED.pt\" --underwater_data_name \"HICRD\" --atmospheric_data_name \"TM-DIED\" --state 'eval'"
   ]
  },
  {
   "cell_type": "markdown",
   "metadata": {},
   "source": [
    "## UIEB HDR"
   ]
  },
  {
   "cell_type": "code",
   "execution_count": null,
   "metadata": {},
   "outputs": [
    {
     "name": "stdout",
     "output_type": "stream",
     "text": [
      "Namespace(underwater_data_name='UIEB', atmospheric_data_name='HDR', model='standart', dataset_path='./data/', state='eval', pretrained_path='output/ckpt/ckpt_400_Pre-Training_VGG+Charbonnier_UIEBHDR+.pt', inference_image='', output_path='./output/', wandb=False, wandb_name='HybridDffusion_2', epoch=1000, batch_size=7, DDP=False, stage=0, epochs_stage_3=200, epochs_stage_1=400, epochs_stage_2=400, supervised=True, underwater_dataset_name='UIEB', atmospheric_dataset_name='HDR+', T=1000, channel=64, channel_mult=[1, 2, 2, 2], attn=[2], num_res_blocks=2, dropout=0.15, lr=5e-05, multiplier=2.0, beta_1=0.0001, beta_T=0.02, img_size=32, grad_clip=1.0, device='cuda', device_list=[0, 1], ddim=True, unconditional_guidance_scale=1, ddim_step=100)\n",
      "1000\n",
      "Avaliando modelo\n",
      "model load weight done.\n",
      "output/result/ckpt_400_Pre-Training_VGG+Charbonnier_UIEBHDR+.pt/HDR/ output/result/ckpt_400_Pre-Training_VGG+Charbonnier_UIEBHDR+.pt/UIEB/\n",
      "Save dir underwater for combination UIEBHDR: output/result/ckpt_400_Pre-Training_VGG+Charbonnier_UIEBHDR+.pt/UIEB/\n",
      "Save dir atmospheric for combination UIEBHDR: output/result/ckpt_400_Pre-Training_VGG+Charbonnier_UIEBHDR+.pt/HDR/\n",
      "/home/pdi_4/anaconda3/envs/CLEDiff/lib/python3.11/site-packages/torchvision/models/_utils.py:208: UserWarning: The parameter 'pretrained' is deprecated since 0.13 and may be removed in the future, please use 'weights' instead.\n",
      "  warnings.warn(\n",
      "/home/pdi_4/anaconda3/envs/CLEDiff/lib/python3.11/site-packages/torchvision/models/_utils.py:223: UserWarning: Arguments other than a weight enum or `None` for 'weights' are deprecated since 0.13 and may be removed in the future. The current behavior is equivalent to passing `weights=Inception_V3_Weights.IMAGENET1K_V1`. You can also use `weights=Inception_V3_Weights.DEFAULT` to get the most up-to-date weights.\n",
      "  warnings.warn(msg)\n",
      "model load weight done.\n",
      "Avaliando Modelo ckpt_400_Pre-Training_VGG+Charbonnier_UIEBHDR+.pt subaquatico UIEB\n",
      "\n",
      "100%|███████████████████████████████████████████| 11/11 [03:46<00:00, 20.63s/it]\n",
      "77 77 0 77 77 77 77 77\n",
      "Avaliando Modelo ckpt_400_Pre-Training_VGG+Charbonnier_UIEBHDR+.pt atmosferico HDR\n",
      "\n",
      "100%|█████████████████████████████████████████████| 2/2 [00:44<00:00, 22.13s/it]\n",
      "Test completed.\n"
     ]
    }
   ],
   "source": [
    "!python Main.py --pretrained_path \"output/ckpt/ckpt_400_Pre-Training_VGG+Charbonnier_UIEBHDR+.pt\" --underwater_data_name \"UIEB\" --atmospheric_data_name \"HDR\" --state 'eval' --batch_size 7"
   ]
  },
  {
   "cell_type": "code",
   "execution_count": 4,
   "metadata": {},
   "outputs": [
    {
     "name": "stdout",
     "output_type": "stream",
     "text": [
      "Namespace(underwater_data_name='UIEB', atmospheric_data_name='HDR', model='standart', dataset_path='./data/', state='eval', pretrained_path='output/ckpt/ckpt_800_Enhancement_Training_(Charbonnier+Angular_Color_Loss+MS_SSIM)_UIEBHDR+.pt', inference_image='', output_path='./output/', wandb=False, wandb_name='HybridDffusion_2', epoch=1000, batch_size=16, DDP=False, stage=0, epochs_stage_3=200, epochs_stage_1=400, epochs_stage_2=400, supervised=True, underwater_dataset_name='UIEB', atmospheric_dataset_name='HDR+', T=1000, channel=64, channel_mult=[1, 2, 2, 2], attn=[2], num_res_blocks=2, dropout=0.15, lr=5e-05, multiplier=2.0, beta_1=0.0001, beta_T=0.02, img_size=32, grad_clip=1.0, device='cuda', device_list=[0, 1], ddim=True, unconditional_guidance_scale=1, ddim_step=100)\n",
      "1000\n",
      "Avaliando modelo\n",
      "model load weight done.\n",
      "output/result/ckpt_800_Enhancement_Training_(Charbonnier+Angular_Color_Loss+MS_SSIM)_UIEBHDR+.pt/HDR/ output/result/ckpt_800_Enhancement_Training_(Charbonnier+Angular_Color_Loss+MS_SSIM)_UIEBHDR+.pt/UIEB/\n",
      "Save dir underwater for combination UIEBHDR: output/result/ckpt_800_Enhancement_Training_(Charbonnier+Angular_Color_Loss+MS_SSIM)_UIEBHDR+.pt/UIEB/\n",
      "Save dir atmospheric for combination UIEBHDR: output/result/ckpt_800_Enhancement_Training_(Charbonnier+Angular_Color_Loss+MS_SSIM)_UIEBHDR+.pt/HDR/\n",
      "/home/pdi_4/anaconda3/envs/CLEDiff/lib/python3.11/site-packages/torchvision/models/_utils.py:208: UserWarning: The parameter 'pretrained' is deprecated since 0.13 and may be removed in the future, please use 'weights' instead.\n",
      "  warnings.warn(\n",
      "/home/pdi_4/anaconda3/envs/CLEDiff/lib/python3.11/site-packages/torchvision/models/_utils.py:223: UserWarning: Arguments other than a weight enum or `None` for 'weights' are deprecated since 0.13 and may be removed in the future. The current behavior is equivalent to passing `weights=Inception_V3_Weights.IMAGENET1K_V1`. You can also use `weights=Inception_V3_Weights.DEFAULT` to get the most up-to-date weights.\n",
      "  warnings.warn(msg)\n",
      "model load weight done.\n",
      "Avaliando Modelo ckpt_800_Enhancement_Training_(Charbonnier+Angular_Color_Loss+MS_SSIM)_UIEBHDR+.pt subaquatico UIEB\n",
      "\n",
      "  0%|                                                     | 0/5 [00:00<?, ?it/s]/home/pdi_4/Documentos/Diffusion-Underwater-Image-Enhancement/metrics/metrics.py:124: RuntimeWarning: divide by zero encountered in divide\n",
      "  mag *= 255.0 / np.max(mag)\n",
      "/home/pdi_4/Documentos/Diffusion-Underwater-Image-Enhancement/metrics/metrics.py:124: RuntimeWarning: invalid value encountered in multiply\n",
      "  mag *= 255.0 / np.max(mag)\n",
      "100%|█████████████████████████████████████████████| 5/5 [03:19<00:00, 39.82s/it]\n",
      "80 80 0 80 80 80 80 80\n",
      "Avaliando Modelo ckpt_800_Enhancement_Training_(Charbonnier+Angular_Color_Loss+MS_SSIM)_UIEBHDR+.pt atmosferico HDR\n",
      "\n",
      "0it [00:00, ?it/s]\n",
      "Test completed.\n"
     ]
    }
   ],
   "source": [
    "!python Main.py --pretrained_path \"output/ckpt/ckpt_800_Enhancement_Training_(Charbonnier+Angular_Color_Loss+MS_SSIM)_UIEBHDR+.pt\" --underwater_data_name \"UIEB\" --atmospheric_data_name \"HDR\" --state 'eval' --batch_size 16"
   ]
  },
  {
   "cell_type": "code",
   "execution_count": 5,
   "metadata": {},
   "outputs": [
    {
     "name": "stdout",
     "output_type": "stream",
     "text": [
      "Namespace(underwater_data_name='UIEB', atmospheric_data_name='HDR', model='standart', dataset_path='./data/', state='eval', pretrained_path='output/ckpt/ckpt_1000_final_UIEBHDR+.pt', inference_image='', output_path='./output/', wandb=False, wandb_name='HybridDffusion_2', epoch=1000, batch_size=7, DDP=False, stage=0, epochs_stage_3=200, epochs_stage_1=400, epochs_stage_2=400, supervised=True, underwater_dataset_name='UIEB', atmospheric_dataset_name='HDR+', T=1000, channel=64, channel_mult=[1, 2, 2, 2], attn=[2], num_res_blocks=2, dropout=0.15, lr=5e-05, multiplier=2.0, beta_1=0.0001, beta_T=0.02, img_size=32, grad_clip=1.0, device='cuda', device_list=[0, 1], ddim=True, unconditional_guidance_scale=1, ddim_step=100)\n",
      "1000\n",
      "Avaliando modelo\n",
      "model load weight done.\n",
      "output/result/ckpt_1000_final_UIEBHDR+.pt/HDR/ output/result/ckpt_1000_final_UIEBHDR+.pt/UIEB/\n",
      "Save dir underwater for combination UIEBHDR: output/result/ckpt_1000_final_UIEBHDR+.pt/UIEB/\n",
      "Save dir atmospheric for combination UIEBHDR: output/result/ckpt_1000_final_UIEBHDR+.pt/HDR/\n",
      "/home/pdi_4/anaconda3/envs/CLEDiff/lib/python3.11/site-packages/torchvision/models/_utils.py:208: UserWarning: The parameter 'pretrained' is deprecated since 0.13 and may be removed in the future, please use 'weights' instead.\n",
      "  warnings.warn(\n",
      "/home/pdi_4/anaconda3/envs/CLEDiff/lib/python3.11/site-packages/torchvision/models/_utils.py:223: UserWarning: Arguments other than a weight enum or `None` for 'weights' are deprecated since 0.13 and may be removed in the future. The current behavior is equivalent to passing `weights=Inception_V3_Weights.IMAGENET1K_V1`. You can also use `weights=Inception_V3_Weights.DEFAULT` to get the most up-to-date weights.\n",
      "  warnings.warn(msg)\n",
      "model load weight done.\n",
      "Avaliando Modelo ckpt_1000_final_UIEBHDR+.pt subaquatico UIEB\n",
      "\n",
      "  9%|████                                        | 1/11 [00:20<03:28, 20.82s/it]/home/pdi_4/Documentos/Diffusion-Underwater-Image-Enhancement/metrics/metrics.py:124: RuntimeWarning: divide by zero encountered in divide\n",
      "  mag *= 255.0 / np.max(mag)\n",
      "/home/pdi_4/Documentos/Diffusion-Underwater-Image-Enhancement/metrics/metrics.py:124: RuntimeWarning: invalid value encountered in multiply\n",
      "  mag *= 255.0 / np.max(mag)\n",
      "100%|███████████████████████████████████████████| 11/11 [03:43<00:00, 20.32s/it]\n",
      "77 77 0 77 77 77 77 77\n",
      "Avaliando Modelo ckpt_1000_final_UIEBHDR+.pt atmosferico HDR\n",
      "\n",
      "100%|█████████████████████████████████████████████| 2/2 [00:42<00:00, 21.32s/it]\n",
      "Test completed.\n"
     ]
    }
   ],
   "source": [
    "!python Main.py --pretrained_path \"output/ckpt/ckpt_1000_final_UIEBHDR+.pt\" --underwater_data_name \"UIEB\" --atmospheric_data_name \"HDR\" --state 'eval' --batch_size 7"
   ]
  },
  {
   "cell_type": "markdown",
   "metadata": {},
   "source": [
    "## HICRD HDR+"
   ]
  },
  {
   "cell_type": "code",
   "execution_count": 6,
   "metadata": {},
   "outputs": [
    {
     "name": "stdout",
     "output_type": "stream",
     "text": [
      "Namespace(underwater_data_name='HICRD', atmospheric_data_name='HDR', model='standart', dataset_path='./data/', state='eval', pretrained_path='output/ckpt/ckpt_400_Pre-Training_VGG+Charbonnier_HICRDHDR+.pt', inference_image='', output_path='./output/', wandb=False, wandb_name='HybridDffusion_2', epoch=1000, batch_size=7, DDP=False, stage=0, epochs_stage_3=200, epochs_stage_1=400, epochs_stage_2=400, supervised=True, underwater_dataset_name='UIEB', atmospheric_dataset_name='HDR+', T=1000, channel=64, channel_mult=[1, 2, 2, 2], attn=[2], num_res_blocks=2, dropout=0.15, lr=5e-05, multiplier=2.0, beta_1=0.0001, beta_T=0.02, img_size=32, grad_clip=1.0, device='cuda', device_list=[0, 1], ddim=True, unconditional_guidance_scale=1, ddim_step=100)\n",
      "1000\n",
      "Avaliando modelo\n",
      "model load weight done.\n",
      "output/result/ckpt_400_Pre-Training_VGG+Charbonnier_HICRDHDR+.pt/HDR/ output/result/ckpt_400_Pre-Training_VGG+Charbonnier_HICRDHDR+.pt/HICRD/\n",
      "Save dir underwater for combination HICRDHDR: output/result/ckpt_400_Pre-Training_VGG+Charbonnier_HICRDHDR+.pt/HICRD/\n",
      "Save dir atmospheric for combination HICRDHDR: output/result/ckpt_400_Pre-Training_VGG+Charbonnier_HICRDHDR+.pt/HDR/\n",
      "/home/pdi_4/anaconda3/envs/CLEDiff/lib/python3.11/site-packages/torchvision/models/_utils.py:208: UserWarning: The parameter 'pretrained' is deprecated since 0.13 and may be removed in the future, please use 'weights' instead.\n",
      "  warnings.warn(\n",
      "/home/pdi_4/anaconda3/envs/CLEDiff/lib/python3.11/site-packages/torchvision/models/_utils.py:223: UserWarning: Arguments other than a weight enum or `None` for 'weights' are deprecated since 0.13 and may be removed in the future. The current behavior is equivalent to passing `weights=Inception_V3_Weights.IMAGENET1K_V1`. You can also use `weights=Inception_V3_Weights.DEFAULT` to get the most up-to-date weights.\n",
      "  warnings.warn(msg)\n",
      "model load weight done.\n",
      "Avaliando Modelo ckpt_400_Pre-Training_VGG+Charbonnier_HICRDHDR+.pt subaquatico HICRD\n",
      "\n",
      "  4%|█▊                                          | 1/24 [00:20<08:02, 20.97s/it]/home/pdi_4/anaconda3/envs/CLEDiff/lib/python3.11/site-packages/scipy/linalg/_matfuncs_sqrtm.py:205: RuntimeWarning: invalid value encountered in scalar divide\n",
      "  arg2 = norm(X.dot(X) - A, 'fro')**2 / norm(A, 'fro')\n",
      "100%|███████████████████████████████████████████| 24/24 [07:17<00:00, 18.23s/it]\n",
      "168 168 0 168 168 168 168 168\n",
      "Avaliando Modelo ckpt_400_Pre-Training_VGG+Charbonnier_HICRDHDR+.pt atmosferico HDR\n",
      "\n",
      "100%|█████████████████████████████████████████████| 2/2 [00:43<00:00, 21.80s/it]\n",
      "Test completed.\n"
     ]
    }
   ],
   "source": [
    "!python Main.py --pretrained_path \"output/ckpt/ckpt_400_Pre-Training_VGG+Charbonnier_HICRDHDR+.pt\" --underwater_data_name \"HICRD\" --atmospheric_data_name \"HDR\" --state 'eval' --batch_size 7"
   ]
  },
  {
   "cell_type": "code",
   "execution_count": 8,
   "metadata": {},
   "outputs": [
    {
     "name": "stdout",
     "output_type": "stream",
     "text": [
      "Namespace(underwater_data_name='HICRD', atmospheric_data_name='HDR', model='standart', dataset_path='./data/', state='eval', pretrained_path='output/ckpt/ckpt_800_Enhancement_Training_(Charbonnier+Angular_Color_Loss+MS_SSIM)_HICRDHDR+.pt', inference_image='', output_path='./output/', wandb=False, wandb_name='HybridDffusion_2', epoch=1000, batch_size=7, DDP=False, stage=0, epochs_stage_3=200, epochs_stage_1=400, epochs_stage_2=400, supervised=True, underwater_dataset_name='UIEB', atmospheric_dataset_name='HDR+', T=1000, channel=64, channel_mult=[1, 2, 2, 2], attn=[2], num_res_blocks=2, dropout=0.15, lr=5e-05, multiplier=2.0, beta_1=0.0001, beta_T=0.02, img_size=32, grad_clip=1.0, device='cuda', device_list=[0, 1], ddim=True, unconditional_guidance_scale=1, ddim_step=100)\n",
      "1000\n",
      "Avaliando modelo\n",
      "model load weight done.\n",
      "output/result/ckpt_800_Enhancement_Training_(Charbonnier+Angular_Color_Loss+MS_SSIM)_HICRDHDR+.pt/HDR/ output/result/ckpt_800_Enhancement_Training_(Charbonnier+Angular_Color_Loss+MS_SSIM)_HICRDHDR+.pt/HICRD/\n",
      "Save dir underwater for combination HICRDHDR: output/result/ckpt_800_Enhancement_Training_(Charbonnier+Angular_Color_Loss+MS_SSIM)_HICRDHDR+.pt/HICRD/\n",
      "Save dir atmospheric for combination HICRDHDR: output/result/ckpt_800_Enhancement_Training_(Charbonnier+Angular_Color_Loss+MS_SSIM)_HICRDHDR+.pt/HDR/\n",
      "/home/pdi_4/anaconda3/envs/CLEDiff/lib/python3.11/site-packages/torchvision/models/_utils.py:208: UserWarning: The parameter 'pretrained' is deprecated since 0.13 and may be removed in the future, please use 'weights' instead.\n",
      "  warnings.warn(\n",
      "/home/pdi_4/anaconda3/envs/CLEDiff/lib/python3.11/site-packages/torchvision/models/_utils.py:223: UserWarning: Arguments other than a weight enum or `None` for 'weights' are deprecated since 0.13 and may be removed in the future. The current behavior is equivalent to passing `weights=Inception_V3_Weights.IMAGENET1K_V1`. You can also use `weights=Inception_V3_Weights.DEFAULT` to get the most up-to-date weights.\n",
      "  warnings.warn(msg)\n",
      "model load weight done.\n",
      "Avaliando Modelo ckpt_800_Enhancement_Training_(Charbonnier+Angular_Color_Loss+MS_SSIM)_HICRDHDR+.pt subaquatico HICRD\n",
      "\n",
      "  0%|                                                    | 0/24 [00:00<?, ?it/s]/home/pdi_4/Documentos/Diffusion-Underwater-Image-Enhancement/metrics/metrics.py:124: RuntimeWarning: divide by zero encountered in divide\n",
      "  mag *= 255.0 / np.max(mag)\n",
      "/home/pdi_4/Documentos/Diffusion-Underwater-Image-Enhancement/metrics/metrics.py:124: RuntimeWarning: invalid value encountered in multiply\n",
      "  mag *= 255.0 / np.max(mag)\n",
      "  4%|█▊                                          | 1/24 [00:20<07:54, 20.64s/it]/home/pdi_4/anaconda3/envs/CLEDiff/lib/python3.11/site-packages/scipy/linalg/_matfuncs_sqrtm.py:205: RuntimeWarning: invalid value encountered in scalar divide\n",
      "  arg2 = norm(X.dot(X) - A, 'fro')**2 / norm(A, 'fro')\n",
      "100%|███████████████████████████████████████████| 24/24 [07:05<00:00, 17.75s/it]\n",
      "168 168 0 168 168 168 168 168\n",
      "Avaliando Modelo ckpt_800_Enhancement_Training_(Charbonnier+Angular_Color_Loss+MS_SSIM)_HICRDHDR+.pt atmosferico HDR\n",
      "\n",
      "100%|█████████████████████████████████████████████| 2/2 [00:42<00:00, 21.12s/it]\n",
      "Test completed.\n"
     ]
    }
   ],
   "source": [
    "!python Main.py --pretrained_path \"output/ckpt/ckpt_800_Enhancement_Training_(Charbonnier+Angular_Color_Loss+MS_SSIM)_HICRDHDR+.pt\" --underwater_data_name \"HICRD\" --atmospheric_data_name \"HDR\" --state 'eval' --batch_size 7"
   ]
  },
  {
   "cell_type": "code",
   "execution_count": 9,
   "metadata": {},
   "outputs": [
    {
     "name": "stdout",
     "output_type": "stream",
     "text": [
      "Namespace(underwater_data_name='HICRD', atmospheric_data_name='HDR', model='standart', dataset_path='./data/', state='eval', pretrained_path='output/ckpt/ckpt_1000_final_HICRDHDR+.pt', inference_image='', output_path='./output/', wandb=False, wandb_name='HybridDffusion_2', epoch=1000, batch_size=7, DDP=False, stage=0, epochs_stage_3=200, epochs_stage_1=400, epochs_stage_2=400, supervised=True, underwater_dataset_name='UIEB', atmospheric_dataset_name='HDR+', T=1000, channel=64, channel_mult=[1, 2, 2, 2], attn=[2], num_res_blocks=2, dropout=0.15, lr=5e-05, multiplier=2.0, beta_1=0.0001, beta_T=0.02, img_size=32, grad_clip=1.0, device='cuda', device_list=[0, 1], ddim=True, unconditional_guidance_scale=1, ddim_step=100)\n",
      "1000\n",
      "Avaliando modelo\n",
      "model load weight done.\n",
      "output/result/ckpt_1000_final_HICRDHDR+.pt/HDR/ output/result/ckpt_1000_final_HICRDHDR+.pt/HICRD/\n",
      "Save dir underwater for combination HICRDHDR: output/result/ckpt_1000_final_HICRDHDR+.pt/HICRD/\n",
      "Save dir atmospheric for combination HICRDHDR: output/result/ckpt_1000_final_HICRDHDR+.pt/HDR/\n",
      "/home/pdi_4/anaconda3/envs/CLEDiff/lib/python3.11/site-packages/torchvision/models/_utils.py:208: UserWarning: The parameter 'pretrained' is deprecated since 0.13 and may be removed in the future, please use 'weights' instead.\n",
      "  warnings.warn(\n",
      "/home/pdi_4/anaconda3/envs/CLEDiff/lib/python3.11/site-packages/torchvision/models/_utils.py:223: UserWarning: Arguments other than a weight enum or `None` for 'weights' are deprecated since 0.13 and may be removed in the future. The current behavior is equivalent to passing `weights=Inception_V3_Weights.IMAGENET1K_V1`. You can also use `weights=Inception_V3_Weights.DEFAULT` to get the most up-to-date weights.\n",
      "  warnings.warn(msg)\n",
      "model load weight done.\n",
      "Avaliando Modelo ckpt_1000_final_HICRDHDR+.pt subaquatico HICRD\n",
      "\n",
      "  4%|█▊                                          | 1/24 [00:20<07:45, 20.22s/it]/home/pdi_4/anaconda3/envs/CLEDiff/lib/python3.11/site-packages/scipy/linalg/_matfuncs_sqrtm.py:205: RuntimeWarning: invalid value encountered in scalar divide\n",
      "  arg2 = norm(X.dot(X) - A, 'fro')**2 / norm(A, 'fro')\n",
      "100%|███████████████████████████████████████████| 24/24 [07:04<00:00, 17.70s/it]\n",
      "168 168 0 168 168 168 168 168\n",
      "Avaliando Modelo ckpt_1000_final_HICRDHDR+.pt atmosferico HDR\n",
      "\n",
      "100%|█████████████████████████████████████████████| 2/2 [00:42<00:00, 21.02s/it]\n",
      "Test completed.\n"
     ]
    }
   ],
   "source": [
    "!python Main.py --pretrained_path \"output/ckpt/ckpt_1000_final_HICRDHDR+.pt\" --underwater_data_name \"HICRD\" --atmospheric_data_name \"HDR\" --state 'eval' --batch_size 7 "
   ]
  },
  {
   "cell_type": "markdown",
   "metadata": {},
   "source": [
    "# Teste no Modelo para ICAR"
   ]
  },
  {
   "cell_type": "markdown",
   "metadata": {},
   "source": []
  }
 ],
 "metadata": {
  "kernelspec": {
   "display_name": "CLEDiff",
   "language": "python",
   "name": "python3"
  },
  "language_info": {
   "codemirror_mode": {
    "name": "ipython",
    "version": 3
   },
   "file_extension": ".py",
   "mimetype": "text/x-python",
   "name": "python",
   "nbconvert_exporter": "python",
   "pygments_lexer": "ipython3",
   "version": "3.11.0"
  }
 },
 "nbformat": 4,
 "nbformat_minor": 2
}
