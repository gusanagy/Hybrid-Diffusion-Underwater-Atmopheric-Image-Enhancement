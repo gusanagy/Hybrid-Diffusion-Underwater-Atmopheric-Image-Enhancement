{
 "cells": [
  {
   "cell_type": "markdown",
   "metadata": {},
   "source": [
    "# Treino"
   ]
  },
  {
   "cell_type": "code",
   "execution_count": null,
   "metadata": {},
   "outputs": [
    {
     "name": "stdout",
     "output_type": "stream",
     "text": [
      "\n",
      "🔧 Configurações Finais:\n",
      "{'DDP': False,\n",
      " 'T': 1000,\n",
      " 'atmospheric_data_name': 'LoLI',\n",
      " 'attn': [2],\n",
      " 'batch_size': 2,\n",
      " 'beta_1': 0.0001,\n",
      " 'beta_T': 0.02,\n",
      " 'channel': 128,\n",
      " 'channel_mult': [1, 2, 2, 2],\n",
      " 'dataset_path': './data/',\n",
      " 'ddim': True,\n",
      " 'ddim_step': 100,\n",
      " 'device': 'cuda',\n",
      " 'device_list': [0],\n",
      " 'dropout': 0.15,\n",
      " 'epoch': 2000,\n",
      " 'epochs_stage_1': 1000,\n",
      " 'epochs_stage_2': 1000,\n",
      " 'grad_clip': 1.0,\n",
      " 'img_size': 32,\n",
      " 'inference_image': '',\n",
      " 'lr': 5e-05,\n",
      " 'model': 'standart',\n",
      " 'multiplier': 2.0,\n",
      " 'num_res_blocks': 2,\n",
      " 'output_path': './output/',\n",
      " 'pretrained_path': None,\n",
      " 'save_checkpoint': 200,\n",
      " 'stage': 0,\n",
      " 'state': 'train',\n",
      " 'supervised': True,\n",
      " 'unconditional_guidance_scale': 1,\n",
      " 'underwater_data_name': 'HICRD',\n",
      " 'wandb': True,\n",
      " 'wandb_name': 'HybridDffusion_4_ICAR'}\n",
      "\u001b[34m\u001b[1mwandb\u001b[0m: Currently logged in as: \u001b[33mgusanagy\u001b[0m (\u001b[33mautoceres\u001b[0m). Use \u001b[1m`wandb login --relogin`\u001b[0m to force relogin\n",
      "\u001b[34m\u001b[1mwandb\u001b[0m: wandb version 0.21.0 is available!  To upgrade, please run:\n",
      "\u001b[34m\u001b[1mwandb\u001b[0m:  $ pip install wandb --upgrade\n",
      "\u001b[34m\u001b[1mwandb\u001b[0m: Tracking run with wandb version 0.16.3\n",
      "\u001b[34m\u001b[1mwandb\u001b[0m: Run data is saved locally in \u001b[35m\u001b[1m/home/pdi_4/Documentos/Diffusion-Underwater-Image-Enhancement/wandb/run-20250723_160019-3w0y46ni\u001b[0m\n",
      "\u001b[34m\u001b[1mwandb\u001b[0m: Run \u001b[1m`wandb offline`\u001b[0m to turn off syncing.\n",
      "\u001b[34m\u001b[1mwandb\u001b[0m: Syncing run \u001b[33mtrain_HybridDffusion_4_ICAR_HICRD_LoLI\u001b[0m\n",
      "\u001b[34m\u001b[1mwandb\u001b[0m: ⭐️ View project at \u001b[34m\u001b[4mhttps://wandb.ai/autoceres/HybridDffusion_4_ICAR\u001b[0m\n",
      "\u001b[34m\u001b[1mwandb\u001b[0m: 🚀 View run at \u001b[34m\u001b[4mhttps://wandb.ai/autoceres/HybridDffusion_4_ICAR/runs/3w0y46ni\u001b[0m\n",
      "Treinando modelo\n",
      "Using cache found in /home/pdi_4/.cache/torch/hub/facebookresearch_dinov2_main\n",
      "/home/pdi_4/.cache/torch/hub/facebookresearch_dinov2_main/dinov2/layers/swiglu_ffn.py:51: UserWarning: xFormers is not available (SwiGLU)\n",
      "  warnings.warn(\"xFormers is not available (SwiGLU)\")\n",
      "/home/pdi_4/.cache/torch/hub/facebookresearch_dinov2_main/dinov2/layers/attention.py:33: UserWarning: xFormers is not available (Attention)\n",
      "  warnings.warn(\"xFormers is not available (Attention)\")\n",
      "/home/pdi_4/.cache/torch/hub/facebookresearch_dinov2_main/dinov2/layers/block.py:40: UserWarning: xFormers is not available (Block)\n",
      "  warnings.warn(\"xFormers is not available (Block)\")\n",
      "Starting stage: Pre-Training Atmosferic with LR: 5e-05 for 1000 epochs, Identificador 0\n",
      "  0%| | 17/16450 [00:07<1:49:21,  2.50it/s, epoch=0, loss=24.8, mse_loss=1.13, P\n",
      "Aborted!\n",
      "  0%| | 17/16450 [00:07<2:03:14,  2.22it/s, epoch=0, loss=24.8, mse_loss=1.13, P\n",
      "Traceback (most recent call last):\n",
      "  File \"/home/pdi_4/Documentos/Diffusion-Underwater-Image-Enhancement/Main.py\", line 121, in <module>\n",
      "    main()\n",
      "  File \"/home/pdi_4/Documentos/Diffusion-Underwater-Image-Enhancement/Main.py\", line 106, in main\n",
      "    train(config)\n",
      "  File \"/home/pdi_4/Documentos/Diffusion-Underwater-Image-Enhancement/utils/rotinas.py\", line 677, in train\n",
      "    num = train_with_dataloaders(\n",
      "          ^^^^^^^^^^^^^^^^^^^^^^^\n",
      "  File \"/home/pdi_4/Documentos/Diffusion-Underwater-Image-Enhancement/utils/rotinas.py\", line 506, in train_with_dataloaders\n",
      "    loss, mse_loss, perceptual_dino, msssim, col_loss = process_batch(\n",
      "                                                        ^^^^^^^^^^^^^^\n",
      "  File \"/home/pdi_4/Documentos/Diffusion-Underwater-Image-Enhancement/utils/rotinas.py\", line 443, in process_batch\n",
      "    loss.mean().backward()\n",
      "  File \"/home/pdi_4/anaconda3/envs/CLEDiff/lib/python3.11/site-packages/torch/_tensor.py\", line 522, in backward\n",
      "    torch.autograd.backward(\n",
      "  File \"/home/pdi_4/anaconda3/envs/CLEDiff/lib/python3.11/site-packages/torch/autograd/__init__.py\", line 266, in backward\n",
      "    Variable._execution_engine.run_backward(  # Calls into the C++ engine to run the backward pass\n",
      "KeyboardInterrupt\n",
      "^C\n"
     ]
    }
   ],
   "source": [
    "!python Main.py --underwater_data_name \"HICRD\" --atmospheric_data_name \"LoLI\" --epochs_stage_1 10 --epochs_stage_2 10 --batch_size 2 --wandb  --wandb_name \"HybridDffusion_4_ICAR\" --output_path \"./output/\" "
   ]
  },
  {
   "cell_type": "markdown",
   "metadata": {},
   "source": [
    "# Testes nos modelos"
   ]
  },
  {
   "cell_type": "markdown",
   "metadata": {},
   "source": [
    "## UIEB TM-DIED"
   ]
  },
  {
   "cell_type": "code",
   "execution_count": 2,
   "metadata": {},
   "outputs": [
    {
     "name": "stdout",
     "output_type": "stream",
     "text": [
      "Namespace(underwater_data_name='UIEB', atmospheric_data_name='TM-DIED', model='standart', dataset_path='./data/', state='eval', pretrained_path='output/ckpt/ckpt_400_Pre-Training_VGG+Charbonnier_UIEBTM-DIED.pt', inference_image='', output_path='./output/', wandb=False, wandb_name='HybridDffusion_2', epoch=1000, batch_size=16, DDP=False, stage=0, epochs_stage_3=200, epochs_stage_1=400, epochs_stage_2=400, supervised=True, underwater_dataset_name='UIEB', atmospheric_dataset_name='HDR+', T=1000, channel=64, channel_mult=[1, 2, 2, 2], attn=[2], num_res_blocks=2, dropout=0.15, lr=5e-05, multiplier=2.0, beta_1=0.0001, beta_T=0.02, img_size=32, grad_clip=1.0, device='cuda', device_list=[0, 1], ddim=True, unconditional_guidance_scale=1, ddim_step=100)\n",
      "1000\n",
      "Avaliando modelo\n",
      "model load weight done.\n",
      "output/result/ckpt_400_Pre-Training_VGG+Charbonnier_UIEBTM-DIED.pt/TM-DIED/ output/result/ckpt_400_Pre-Training_VGG+Charbonnier_UIEBTM-DIED.pt/UIEB/\n",
      "Save dir underwater for combination UIEBTM-DIED: output/result/ckpt_400_Pre-Training_VGG+Charbonnier_UIEBTM-DIED.pt/UIEB/\n",
      "Save dir atmospheric for combination UIEBTM-DIED: output/result/ckpt_400_Pre-Training_VGG+Charbonnier_UIEBTM-DIED.pt/TM-DIED/\n",
      "/home/pdi_4/anaconda3/envs/CLEDiff/lib/python3.11/site-packages/torchvision/models/_utils.py:208: UserWarning: The parameter 'pretrained' is deprecated since 0.13 and may be removed in the future, please use 'weights' instead.\n",
      "  warnings.warn(\n",
      "/home/pdi_4/anaconda3/envs/CLEDiff/lib/python3.11/site-packages/torchvision/models/_utils.py:223: UserWarning: Arguments other than a weight enum or `None` for 'weights' are deprecated since 0.13 and may be removed in the future. The current behavior is equivalent to passing `weights=Inception_V3_Weights.IMAGENET1K_V1`. You can also use `weights=Inception_V3_Weights.DEFAULT` to get the most up-to-date weights.\n",
      "  warnings.warn(msg)\n",
      "model load weight done.\n",
      "Avaliando Modelo ckpt_400_Pre-Training_VGG+Charbonnier_UIEBTM-DIED.pt subaquatico UIEB\n",
      "\n",
      "100%|█████████████████████████████████████████████| 5/5 [03:26<00:00, 41.25s/it]\n",
      "Avaliando Modelo ckpt_400_Pre-Training_VGG+Charbonnier_UIEBTM-DIED.pt atmosferico TM-DIED\n",
      "\n",
      "100%|█████████████████████████████████████████████| 1/1 [00:43<00:00, 43.72s/it]\n",
      "Test completed.\n"
     ]
    }
   ],
   "source": [
    "!python Main.py --pretrained_path \"output/ckpt/ckpt_400_Pre-Training_VGG+Charbonnier_UIEBTM-DIED.pt\" --underwater_data_name \"UIEB\" --atmospheric_data_name \"TM-DIED\" --state 'eval'"
   ]
  },
  {
   "cell_type": "code",
   "execution_count": 3,
   "metadata": {},
   "outputs": [
    {
     "name": "stdout",
     "output_type": "stream",
     "text": [
      "Namespace(underwater_data_name='UIEB', atmospheric_data_name='TM-DIED', model='standart', dataset_path='./data/', state='eval', pretrained_path='output/ckpt/ckpt_800_Enhancement_Training_(Charbonnier+Angular_Color_Loss+MS_SSIM)_UIEBTM-DIED.pt', inference_image='', output_path='./output/', wandb=False, wandb_name='HybridDffusion_2', epoch=1000, batch_size=16, DDP=False, stage=0, epochs_stage_3=200, epochs_stage_1=400, epochs_stage_2=400, supervised=True, underwater_dataset_name='UIEB', atmospheric_dataset_name='HDR+', T=1000, channel=64, channel_mult=[1, 2, 2, 2], attn=[2], num_res_blocks=2, dropout=0.15, lr=5e-05, multiplier=2.0, beta_1=0.0001, beta_T=0.02, img_size=32, grad_clip=1.0, device='cuda', device_list=[0, 1], ddim=True, unconditional_guidance_scale=1, ddim_step=100)\n",
      "1000\n",
      "Avaliando modelo\n",
      "model load weight done.\n",
      "output/result/ckpt_800_Enhancement_Training_(Charbonnier+Angular_Color_Loss+MS_SSIM)_UIEBTM-DIED.pt/TM-DIED/ output/result/ckpt_800_Enhancement_Training_(Charbonnier+Angular_Color_Loss+MS_SSIM)_UIEBTM-DIED.pt/UIEB/\n",
      "Save dir underwater for combination UIEBTM-DIED: output/result/ckpt_800_Enhancement_Training_(Charbonnier+Angular_Color_Loss+MS_SSIM)_UIEBTM-DIED.pt/UIEB/\n",
      "Save dir atmospheric for combination UIEBTM-DIED: output/result/ckpt_800_Enhancement_Training_(Charbonnier+Angular_Color_Loss+MS_SSIM)_UIEBTM-DIED.pt/TM-DIED/\n",
      "/home/pdi_4/anaconda3/envs/CLEDiff/lib/python3.11/site-packages/torchvision/models/_utils.py:208: UserWarning: The parameter 'pretrained' is deprecated since 0.13 and may be removed in the future, please use 'weights' instead.\n",
      "  warnings.warn(\n",
      "/home/pdi_4/anaconda3/envs/CLEDiff/lib/python3.11/site-packages/torchvision/models/_utils.py:223: UserWarning: Arguments other than a weight enum or `None` for 'weights' are deprecated since 0.13 and may be removed in the future. The current behavior is equivalent to passing `weights=Inception_V3_Weights.IMAGENET1K_V1`. You can also use `weights=Inception_V3_Weights.DEFAULT` to get the most up-to-date weights.\n",
      "  warnings.warn(msg)\n",
      "model load weight done.\n",
      "Avaliando Modelo ckpt_800_Enhancement_Training_(Charbonnier+Angular_Color_Loss+MS_SSIM)_UIEBTM-DIED.pt subaquatico UIEB\n",
      "\n",
      "  0%|                                                     | 0/5 [00:00<?, ?it/s]/home/pdi_4/Documentos/Diffusion-Underwater-Image-Enhancement/metrics/metrics.py:124: RuntimeWarning: divide by zero encountered in divide\n",
      "  mag *= 255.0 / np.max(mag)\n",
      "/home/pdi_4/Documentos/Diffusion-Underwater-Image-Enhancement/metrics/metrics.py:124: RuntimeWarning: invalid value encountered in multiply\n",
      "  mag *= 255.0 / np.max(mag)\n",
      "100%|█████████████████████████████████████████████| 5/5 [03:19<00:00, 39.85s/it]\n",
      "Avaliando Modelo ckpt_800_Enhancement_Training_(Charbonnier+Angular_Color_Loss+MS_SSIM)_UIEBTM-DIED.pt atmosferico TM-DIED\n",
      "\n",
      "100%|█████████████████████████████████████████████| 1/1 [00:42<00:00, 42.79s/it]\n",
      "Test completed.\n"
     ]
    }
   ],
   "source": [
    "!python Main.py --pretrained_path \"output/ckpt/ckpt_800_Enhancement_Training_(Charbonnier+Angular_Color_Loss+MS_SSIM)_UIEBTM-DIED.pt\" --underwater_data_name \"UIEB\" --atmospheric_data_name \"TM-DIED\" --state 'eval'"
   ]
  },
  {
   "cell_type": "code",
   "execution_count": 3,
   "metadata": {},
   "outputs": [
    {
     "name": "stdout",
     "output_type": "stream",
     "text": [
      "Namespace(underwater_data_name='UIEB', atmospheric_data_name='TM-DIED', model='standart', dataset_path='./data/', state='eval', pretrained_path='output/ckpt/ckpt/ckpt_800_Pre-Training_UIEBTM-DIED.pt', inference_image='', output_path='./output/', wandb=False, wandb_name='HybridDffusion_3', epoch=2000, batch_size=4, DDP=False, stage=0, epochs_stage_3=1000, epochs_stage_1=1000, epochs_stage_2=1000, device='cuda', supervised=True, underwater_dataset_name='UIEB', atmospheric_dataset_name='HDR+', T=1000, channel=128, channel_mult=[1, 2, 2, 2], attn=[2], num_res_blocks=2, dropout=0.15, lr=5e-05, multiplier=2.0, beta_1=0.0001, beta_T=0.02, img_size=32, grad_clip=1.0, device_list=[0, 1], ddim=True, unconditional_guidance_scale=1, ddim_step=100)\n",
      "2000\n",
      "Avaliando modelo\n",
      "model load weight done.\n",
      "output/result/ckpt_800_Pre-Training_UIEBTM-DIED.pt/TM-DIED/ output/result/ckpt_800_Pre-Training_UIEBTM-DIED.pt/UIEB/\n",
      "Save dir underwater for combination UIEBTM-DIED: output/result/ckpt_800_Pre-Training_UIEBTM-DIED.pt/UIEB/\n",
      "Save dir atmospheric for combination UIEBTM-DIED: output/result/ckpt_800_Pre-Training_UIEBTM-DIED.pt/TM-DIED/\n",
      "/home/pdi_4/anaconda3/envs/CLEDiff/lib/python3.11/site-packages/torchvision/models/_utils.py:208: UserWarning: The parameter 'pretrained' is deprecated since 0.13 and may be removed in the future, please use 'weights' instead.\n",
      "  warnings.warn(\n",
      "/home/pdi_4/anaconda3/envs/CLEDiff/lib/python3.11/site-packages/torchvision/models/_utils.py:223: UserWarning: Arguments other than a weight enum or `None` for 'weights' are deprecated since 0.13 and may be removed in the future. The current behavior is equivalent to passing `weights=Inception_V3_Weights.IMAGENET1K_V1`. You can also use `weights=Inception_V3_Weights.DEFAULT` to get the most up-to-date weights.\n",
      "  warnings.warn(msg)\n",
      "model load weight done.\n",
      "Avaliando Modelo ckpt_800_Pre-Training_UIEBTM-DIED.pt subaquatico UIEB\n",
      "\n",
      "  0%|                                                    | 0/20 [00:00<?, ?it/s]/home/pdi_4/Documentos/Diffusion-Underwater-Image-Enhancement/metrics/metrics.py:124: RuntimeWarning: divide by zero encountered in divide\n",
      "  mag *= 255.0 / np.max(mag)\n",
      "/home/pdi_4/Documentos/Diffusion-Underwater-Image-Enhancement/metrics/metrics.py:124: RuntimeWarning: invalid value encountered in multiply\n",
      "  mag *= 255.0 / np.max(mag)\n",
      " 10%|████▍                                       | 2/20 [00:52<07:49, 26.07s/it]/home/pdi_4/anaconda3/envs/CLEDiff/lib/python3.11/site-packages/scipy/linalg/_matfuncs_sqrtm.py:205: RuntimeWarning: invalid value encountered in scalar divide\n",
      "  arg2 = norm(X.dot(X) - A, 'fro')**2 / norm(A, 'fro')\n",
      "100%|███████████████████████████████████████████| 20/20 [08:26<00:00, 25.34s/it]\n",
      "80 80 0 80 80 80 80 80\n",
      "Avaliando Modelo ckpt_800_Pre-Training_UIEBTM-DIED.pt atmosferico TM-DIED\n",
      "\n",
      "100%|█████████████████████████████████████████████| 5/5 [02:06<00:00, 25.36s/it]\n",
      "Test completed.\n"
     ]
    }
   ],
   "source": [
    "!python Main.py --pretrained_path \"output/ckpt/ckpt/ckpt_800_Pre-Training_UIEBTM-DIED.pt\" --underwater_data_name \"UIEB\" --atmospheric_data_name \"TM-DIED\" --state 'eval' --batch_size 4"
   ]
  },
  {
   "cell_type": "markdown",
   "metadata": {},
   "source": [
    "## HCIRD TM-DIED"
   ]
  },
  {
   "cell_type": "code",
   "execution_count": 5,
   "metadata": {},
   "outputs": [
    {
     "name": "stdout",
     "output_type": "stream",
     "text": [
      "Namespace(underwater_data_name='HICRD', atmospheric_data_name='TM-DIED', model='standart', dataset_path='./data/', state='eval', pretrained_path='output/ckpt/ckpt_400_Pre-Training_VGG+Charbonnier_HICRDTM-DIED.pt', inference_image='', output_path='./output/', wandb=False, wandb_name='HybridDffusion_2', epoch=1000, batch_size=16, DDP=False, stage=0, epochs_stage_3=200, epochs_stage_1=400, epochs_stage_2=400, supervised=True, underwater_dataset_name='UIEB', atmospheric_dataset_name='HDR+', T=1000, channel=64, channel_mult=[1, 2, 2, 2], attn=[2], num_res_blocks=2, dropout=0.15, lr=5e-05, multiplier=2.0, beta_1=0.0001, beta_T=0.02, img_size=32, grad_clip=1.0, device='cuda', device_list=[0, 1], ddim=True, unconditional_guidance_scale=1, ddim_step=100)\n",
      "1000\n",
      "Avaliando modelo\n",
      "model load weight done.\n",
      "output/result/ckpt_400_Pre-Training_VGG+Charbonnier_HICRDTM-DIED.pt/TM-DIED/ output/result/ckpt_400_Pre-Training_VGG+Charbonnier_HICRDTM-DIED.pt/HICRD/\n",
      "Save dir underwater for combination HICRDTM-DIED: output/result/ckpt_400_Pre-Training_VGG+Charbonnier_HICRDTM-DIED.pt/HICRD/\n",
      "Save dir atmospheric for combination HICRDTM-DIED: output/result/ckpt_400_Pre-Training_VGG+Charbonnier_HICRDTM-DIED.pt/TM-DIED/\n",
      "/home/pdi_4/anaconda3/envs/CLEDiff/lib/python3.11/site-packages/torchvision/models/_utils.py:208: UserWarning: The parameter 'pretrained' is deprecated since 0.13 and may be removed in the future, please use 'weights' instead.\n",
      "  warnings.warn(\n",
      "/home/pdi_4/anaconda3/envs/CLEDiff/lib/python3.11/site-packages/torchvision/models/_utils.py:223: UserWarning: Arguments other than a weight enum or `None` for 'weights' are deprecated since 0.13 and may be removed in the future. The current behavior is equivalent to passing `weights=Inception_V3_Weights.IMAGENET1K_V1`. You can also use `weights=Inception_V3_Weights.DEFAULT` to get the most up-to-date weights.\n",
      "  warnings.warn(msg)\n",
      "model load weight done.\n",
      "Avaliando Modelo ckpt_400_Pre-Training_VGG+Charbonnier_HICRDTM-DIED.pt subaquatico HICRD\n",
      "\n",
      " 20%|████████▊                                   | 2/10 [01:22<05:28, 41.12s/it]/home/pdi_4/anaconda3/envs/CLEDiff/lib/python3.11/site-packages/scipy/linalg/_matfuncs_sqrtm.py:205: RuntimeWarning: invalid value encountered in scalar divide\n",
      "  arg2 = norm(X.dot(X) - A, 'fro')**2 / norm(A, 'fro')\n",
      "100%|███████████████████████████████████████████| 10/10 [06:41<00:00, 40.18s/it]\n",
      "Avaliando Modelo ckpt_400_Pre-Training_VGG+Charbonnier_HICRDTM-DIED.pt atmosferico TM-DIED\n",
      "\n",
      "100%|█████████████████████████████████████████████| 1/1 [00:44<00:00, 44.05s/it]\n",
      "Test completed.\n"
     ]
    }
   ],
   "source": [
    "!python Main.py --pretrained_path \"output/ckpt/ckpt_400_Pre-Training_VGG+Charbonnier_HICRDTM-DIED.pt\" --underwater_data_name \"HICRD\" --atmospheric_data_name \"TM-DIED\" --state 'eval'"
   ]
  },
  {
   "cell_type": "code",
   "execution_count": 3,
   "metadata": {},
   "outputs": [
    {
     "name": "stdout",
     "output_type": "stream",
     "text": [
      "Namespace(underwater_data_name='HICRD', atmospheric_data_name='TM-DIED', model='standart', dataset_path='./data/', state='eval', pretrained_path='output/ckpt/ckpt_800_Enhancement_Training_(Charbonnier+Angular_Color_Loss+MS_SSIM)_HICRDTM-DIED.pt', inference_image='', output_path='./output/', wandb=False, wandb_name='HybridDffusion_2', epoch=1000, batch_size=16, DDP=False, stage=0, epochs_stage_3=200, epochs_stage_1=400, epochs_stage_2=400, supervised=True, underwater_dataset_name='UIEB', atmospheric_dataset_name='HDR+', T=1000, channel=64, channel_mult=[1, 2, 2, 2], attn=[2], num_res_blocks=2, dropout=0.15, lr=5e-05, multiplier=2.0, beta_1=0.0001, beta_T=0.02, img_size=32, grad_clip=1.0, device='cuda', device_list=[0, 1], ddim=True, unconditional_guidance_scale=1, ddim_step=100)\n",
      "1000\n",
      "Avaliando modelo\n",
      "model load weight done.\n",
      "output/result/ckpt_800_Enhancement_Training_(Charbonnier+Angular_Color_Loss+MS_SSIM)_HICRDTM-DIED.pt/TM-DIED/ output/result/ckpt_800_Enhancement_Training_(Charbonnier+Angular_Color_Loss+MS_SSIM)_HICRDTM-DIED.pt/HICRD/\n",
      "Save dir underwater for combination HICRDTM-DIED: output/result/ckpt_800_Enhancement_Training_(Charbonnier+Angular_Color_Loss+MS_SSIM)_HICRDTM-DIED.pt/HICRD/\n",
      "Save dir atmospheric for combination HICRDTM-DIED: output/result/ckpt_800_Enhancement_Training_(Charbonnier+Angular_Color_Loss+MS_SSIM)_HICRDTM-DIED.pt/TM-DIED/\n",
      "/home/pdi_4/anaconda3/envs/CLEDiff/lib/python3.11/site-packages/torchvision/models/_utils.py:208: UserWarning: The parameter 'pretrained' is deprecated since 0.13 and may be removed in the future, please use 'weights' instead.\n",
      "  warnings.warn(\n",
      "/home/pdi_4/anaconda3/envs/CLEDiff/lib/python3.11/site-packages/torchvision/models/_utils.py:223: UserWarning: Arguments other than a weight enum or `None` for 'weights' are deprecated since 0.13 and may be removed in the future. The current behavior is equivalent to passing `weights=Inception_V3_Weights.IMAGENET1K_V1`. You can also use `weights=Inception_V3_Weights.DEFAULT` to get the most up-to-date weights.\n",
      "  warnings.warn(msg)\n",
      "model load weight done.\n",
      "Avaliando Modelo ckpt_800_Enhancement_Training_(Charbonnier+Angular_Color_Loss+MS_SSIM)_HICRDTM-DIED.pt subaquatico HICRD\n",
      "\n",
      "  0%|                                                    | 0/10 [00:00<?, ?it/s]/home/pdi_4/Documentos/Diffusion-Underwater-Image-Enhancement/metrics/metrics.py:124: RuntimeWarning: divide by zero encountered in divide\n",
      "  mag *= 255.0 / np.max(mag)\n",
      "/home/pdi_4/Documentos/Diffusion-Underwater-Image-Enhancement/metrics/metrics.py:124: RuntimeWarning: invalid value encountered in multiply\n",
      "  mag *= 255.0 / np.max(mag)\n",
      " 20%|████████▊                                   | 2/10 [01:18<05:12, 39.08s/it]/home/pdi_4/anaconda3/envs/CLEDiff/lib/python3.11/site-packages/scipy/linalg/_matfuncs_sqrtm.py:205: RuntimeWarning: invalid value encountered in scalar divide\n",
      "  arg2 = norm(X.dot(X) - A, 'fro')**2 / norm(A, 'fro')\n",
      "100%|███████████████████████████████████████████| 10/10 [06:01<00:00, 36.11s/it]\n",
      "160 160 0 160 160 160 160 160\n",
      "Avaliando Modelo ckpt_800_Enhancement_Training_(Charbonnier+Angular_Color_Loss+MS_SSIM)_HICRDTM-DIED.pt atmosferico TM-DIED\n",
      "\n",
      "100%|█████████████████████████████████████████████| 1/1 [00:40<00:00, 40.47s/it]\n",
      "Test completed.\n"
     ]
    }
   ],
   "source": [
    "!python Main.py --pretrained_path \"output/ckpt/ckpt_800_Enhancement_Training_(Charbonnier+Angular_Color_Loss+MS_SSIM)_HICRDTM-DIED.pt\" --underwater_data_name \"HICRD\" --atmospheric_data_name \"TM-DIED\" --state 'eval'"
   ]
  },
  {
   "cell_type": "code",
   "execution_count": 2,
   "metadata": {},
   "outputs": [
    {
     "name": "stdout",
     "output_type": "stream",
     "text": [
      "Namespace(underwater_data_name='HICRD', atmospheric_data_name='TM-DIED', model='standart', dataset_path='./data/', state='eval', pretrained_path='output/ckpt/ckpt_1000_final_HICRDTM-DIED.pt', inference_image='', output_path='./output/', wandb=False, wandb_name='HybridDffusion_2', epoch=1000, batch_size=16, DDP=False, stage=0, epochs_stage_3=200, epochs_stage_1=400, epochs_stage_2=400, supervised=True, underwater_dataset_name='UIEB', atmospheric_dataset_name='HDR+', T=1000, channel=64, channel_mult=[1, 2, 2, 2], attn=[2], num_res_blocks=2, dropout=0.15, lr=5e-05, multiplier=2.0, beta_1=0.0001, beta_T=0.02, img_size=32, grad_clip=1.0, device='cuda', device_list=[0, 1], ddim=True, unconditional_guidance_scale=1, ddim_step=100)\n",
      "1000\n",
      "Avaliando modelo\n",
      "model load weight done.\n",
      "output/result/ckpt_1000_final_HICRDTM-DIED.pt/TM-DIED/ output/result/ckpt_1000_final_HICRDTM-DIED.pt/HICRD/\n",
      "Save dir underwater for combination HICRDTM-DIED: output/result/ckpt_1000_final_HICRDTM-DIED.pt/HICRD/\n",
      "Save dir atmospheric for combination HICRDTM-DIED: output/result/ckpt_1000_final_HICRDTM-DIED.pt/TM-DIED/\n",
      "/home/pdi_4/anaconda3/envs/CLEDiff/lib/python3.11/site-packages/torchvision/models/_utils.py:208: UserWarning: The parameter 'pretrained' is deprecated since 0.13 and may be removed in the future, please use 'weights' instead.\n",
      "  warnings.warn(\n",
      "/home/pdi_4/anaconda3/envs/CLEDiff/lib/python3.11/site-packages/torchvision/models/_utils.py:223: UserWarning: Arguments other than a weight enum or `None` for 'weights' are deprecated since 0.13 and may be removed in the future. The current behavior is equivalent to passing `weights=Inception_V3_Weights.IMAGENET1K_V1`. You can also use `weights=Inception_V3_Weights.DEFAULT` to get the most up-to-date weights.\n",
      "  warnings.warn(msg)\n",
      "model load weight done.\n",
      "Avaliando Modelo ckpt_1000_final_HICRDTM-DIED.pt subaquatico HICRD\n",
      "\n",
      "  0%|                                                    | 0/10 [00:00<?, ?it/s]/home/pdi_4/Documentos/Diffusion-Underwater-Image-Enhancement/metrics/metrics.py:124: RuntimeWarning: divide by zero encountered in divide\n",
      "  mag *= 255.0 / np.max(mag)\n",
      "/home/pdi_4/Documentos/Diffusion-Underwater-Image-Enhancement/metrics/metrics.py:124: RuntimeWarning: invalid value encountered in multiply\n",
      "  mag *= 255.0 / np.max(mag)\n",
      " 20%|████████▊                                   | 2/10 [01:20<05:19, 39.88s/it]/home/pdi_4/anaconda3/envs/CLEDiff/lib/python3.11/site-packages/scipy/linalg/_matfuncs_sqrtm.py:205: RuntimeWarning: invalid value encountered in scalar divide\n",
      "  arg2 = norm(X.dot(X) - A, 'fro')**2 / norm(A, 'fro')\n",
      "100%|███████████████████████████████████████████| 10/10 [06:20<00:00, 38.10s/it]\n",
      "160 160 0 160 160 160 160 160\n",
      "Avaliando Modelo ckpt_1000_final_HICRDTM-DIED.pt atmosferico TM-DIED\n",
      "\n",
      "100%|█████████████████████████████████████████████| 1/1 [00:42<00:00, 42.47s/it]\n",
      "Test completed.\n"
     ]
    }
   ],
   "source": [
    "!python Main.py --pretrained_path \"output/ckpt/ckpt_1000_final_HICRDTM-DIED.pt\" --underwater_data_name \"HICRD\" --atmospheric_data_name \"TM-DIED\" --state 'eval'"
   ]
  },
  {
   "cell_type": "markdown",
   "metadata": {},
   "source": [
    "## UIEB HDR"
   ]
  },
  {
   "cell_type": "code",
   "execution_count": null,
   "metadata": {},
   "outputs": [
    {
     "name": "stdout",
     "output_type": "stream",
     "text": [
      "Namespace(underwater_data_name='UIEB', atmospheric_data_name='HDR', model='standart', dataset_path='./data/', state='eval', pretrained_path='output/ckpt/ckpt_400_Pre-Training_VGG+Charbonnier_UIEBHDR+.pt', inference_image='', output_path='./output/', wandb=False, wandb_name='HybridDffusion_2', epoch=1000, batch_size=7, DDP=False, stage=0, epochs_stage_3=200, epochs_stage_1=400, epochs_stage_2=400, supervised=True, underwater_dataset_name='UIEB', atmospheric_dataset_name='HDR+', T=1000, channel=64, channel_mult=[1, 2, 2, 2], attn=[2], num_res_blocks=2, dropout=0.15, lr=5e-05, multiplier=2.0, beta_1=0.0001, beta_T=0.02, img_size=32, grad_clip=1.0, device='cuda', device_list=[0, 1], ddim=True, unconditional_guidance_scale=1, ddim_step=100)\n",
      "1000\n",
      "Avaliando modelo\n",
      "model load weight done.\n",
      "output/result/ckpt_400_Pre-Training_VGG+Charbonnier_UIEBHDR+.pt/HDR/ output/result/ckpt_400_Pre-Training_VGG+Charbonnier_UIEBHDR+.pt/UIEB/\n",
      "Save dir underwater for combination UIEBHDR: output/result/ckpt_400_Pre-Training_VGG+Charbonnier_UIEBHDR+.pt/UIEB/\n",
      "Save dir atmospheric for combination UIEBHDR: output/result/ckpt_400_Pre-Training_VGG+Charbonnier_UIEBHDR+.pt/HDR/\n",
      "/home/pdi_4/anaconda3/envs/CLEDiff/lib/python3.11/site-packages/torchvision/models/_utils.py:208: UserWarning: The parameter 'pretrained' is deprecated since 0.13 and may be removed in the future, please use 'weights' instead.\n",
      "  warnings.warn(\n",
      "/home/pdi_4/anaconda3/envs/CLEDiff/lib/python3.11/site-packages/torchvision/models/_utils.py:223: UserWarning: Arguments other than a weight enum or `None` for 'weights' are deprecated since 0.13 and may be removed in the future. The current behavior is equivalent to passing `weights=Inception_V3_Weights.IMAGENET1K_V1`. You can also use `weights=Inception_V3_Weights.DEFAULT` to get the most up-to-date weights.\n",
      "  warnings.warn(msg)\n",
      "model load weight done.\n",
      "Avaliando Modelo ckpt_400_Pre-Training_VGG+Charbonnier_UIEBHDR+.pt subaquatico UIEB\n",
      "\n",
      "100%|███████████████████████████████████████████| 11/11 [03:46<00:00, 20.63s/it]\n",
      "77 77 0 77 77 77 77 77\n",
      "Avaliando Modelo ckpt_400_Pre-Training_VGG+Charbonnier_UIEBHDR+.pt atmosferico HDR\n",
      "\n",
      "100%|█████████████████████████████████████████████| 2/2 [00:44<00:00, 22.13s/it]\n",
      "Test completed.\n"
     ]
    }
   ],
   "source": [
    "!python Main.py --pretrained_path \"output/ckpt/ckpt_400_Pre-Training_VGG+Charbonnier_UIEBHDR+.pt\" --underwater_data_name \"UIEB\" --atmospheric_data_name \"HDR\" --state 'eval' --batch_size 7"
   ]
  },
  {
   "cell_type": "code",
   "execution_count": 4,
   "metadata": {},
   "outputs": [
    {
     "name": "stdout",
     "output_type": "stream",
     "text": [
      "Namespace(underwater_data_name='UIEB', atmospheric_data_name='HDR', model='standart', dataset_path='./data/', state='eval', pretrained_path='output/ckpt/ckpt_800_Enhancement_Training_(Charbonnier+Angular_Color_Loss+MS_SSIM)_UIEBHDR+.pt', inference_image='', output_path='./output/', wandb=False, wandb_name='HybridDffusion_2', epoch=1000, batch_size=16, DDP=False, stage=0, epochs_stage_3=200, epochs_stage_1=400, epochs_stage_2=400, supervised=True, underwater_dataset_name='UIEB', atmospheric_dataset_name='HDR+', T=1000, channel=64, channel_mult=[1, 2, 2, 2], attn=[2], num_res_blocks=2, dropout=0.15, lr=5e-05, multiplier=2.0, beta_1=0.0001, beta_T=0.02, img_size=32, grad_clip=1.0, device='cuda', device_list=[0, 1], ddim=True, unconditional_guidance_scale=1, ddim_step=100)\n",
      "1000\n",
      "Avaliando modelo\n",
      "model load weight done.\n",
      "output/result/ckpt_800_Enhancement_Training_(Charbonnier+Angular_Color_Loss+MS_SSIM)_UIEBHDR+.pt/HDR/ output/result/ckpt_800_Enhancement_Training_(Charbonnier+Angular_Color_Loss+MS_SSIM)_UIEBHDR+.pt/UIEB/\n",
      "Save dir underwater for combination UIEBHDR: output/result/ckpt_800_Enhancement_Training_(Charbonnier+Angular_Color_Loss+MS_SSIM)_UIEBHDR+.pt/UIEB/\n",
      "Save dir atmospheric for combination UIEBHDR: output/result/ckpt_800_Enhancement_Training_(Charbonnier+Angular_Color_Loss+MS_SSIM)_UIEBHDR+.pt/HDR/\n",
      "/home/pdi_4/anaconda3/envs/CLEDiff/lib/python3.11/site-packages/torchvision/models/_utils.py:208: UserWarning: The parameter 'pretrained' is deprecated since 0.13 and may be removed in the future, please use 'weights' instead.\n",
      "  warnings.warn(\n",
      "/home/pdi_4/anaconda3/envs/CLEDiff/lib/python3.11/site-packages/torchvision/models/_utils.py:223: UserWarning: Arguments other than a weight enum or `None` for 'weights' are deprecated since 0.13 and may be removed in the future. The current behavior is equivalent to passing `weights=Inception_V3_Weights.IMAGENET1K_V1`. You can also use `weights=Inception_V3_Weights.DEFAULT` to get the most up-to-date weights.\n",
      "  warnings.warn(msg)\n",
      "model load weight done.\n",
      "Avaliando Modelo ckpt_800_Enhancement_Training_(Charbonnier+Angular_Color_Loss+MS_SSIM)_UIEBHDR+.pt subaquatico UIEB\n",
      "\n",
      "  0%|                                                     | 0/5 [00:00<?, ?it/s]/home/pdi_4/Documentos/Diffusion-Underwater-Image-Enhancement/metrics/metrics.py:124: RuntimeWarning: divide by zero encountered in divide\n",
      "  mag *= 255.0 / np.max(mag)\n",
      "/home/pdi_4/Documentos/Diffusion-Underwater-Image-Enhancement/metrics/metrics.py:124: RuntimeWarning: invalid value encountered in multiply\n",
      "  mag *= 255.0 / np.max(mag)\n",
      "100%|█████████████████████████████████████████████| 5/5 [03:19<00:00, 39.82s/it]\n",
      "80 80 0 80 80 80 80 80\n",
      "Avaliando Modelo ckpt_800_Enhancement_Training_(Charbonnier+Angular_Color_Loss+MS_SSIM)_UIEBHDR+.pt atmosferico HDR\n",
      "\n",
      "0it [00:00, ?it/s]\n",
      "Test completed.\n"
     ]
    }
   ],
   "source": [
    "!python Main.py --pretrained_path \"output/ckpt/ckpt_800_Enhancement_Training_(Charbonnier+Angular_Color_Loss+MS_SSIM)_UIEBHDR+.pt\" --underwater_data_name \"UIEB\" --atmospheric_data_name \"HDR\" --state 'eval' --batch_size 16"
   ]
  },
  {
   "cell_type": "code",
   "execution_count": 5,
   "metadata": {},
   "outputs": [
    {
     "name": "stdout",
     "output_type": "stream",
     "text": [
      "Namespace(underwater_data_name='UIEB', atmospheric_data_name='HDR', model='standart', dataset_path='./data/', state='eval', pretrained_path='output/ckpt/ckpt_1000_final_UIEBHDR+.pt', inference_image='', output_path='./output/', wandb=False, wandb_name='HybridDffusion_2', epoch=1000, batch_size=7, DDP=False, stage=0, epochs_stage_3=200, epochs_stage_1=400, epochs_stage_2=400, supervised=True, underwater_dataset_name='UIEB', atmospheric_dataset_name='HDR+', T=1000, channel=64, channel_mult=[1, 2, 2, 2], attn=[2], num_res_blocks=2, dropout=0.15, lr=5e-05, multiplier=2.0, beta_1=0.0001, beta_T=0.02, img_size=32, grad_clip=1.0, device='cuda', device_list=[0, 1], ddim=True, unconditional_guidance_scale=1, ddim_step=100)\n",
      "1000\n",
      "Avaliando modelo\n",
      "model load weight done.\n",
      "output/result/ckpt_1000_final_UIEBHDR+.pt/HDR/ output/result/ckpt_1000_final_UIEBHDR+.pt/UIEB/\n",
      "Save dir underwater for combination UIEBHDR: output/result/ckpt_1000_final_UIEBHDR+.pt/UIEB/\n",
      "Save dir atmospheric for combination UIEBHDR: output/result/ckpt_1000_final_UIEBHDR+.pt/HDR/\n",
      "/home/pdi_4/anaconda3/envs/CLEDiff/lib/python3.11/site-packages/torchvision/models/_utils.py:208: UserWarning: The parameter 'pretrained' is deprecated since 0.13 and may be removed in the future, please use 'weights' instead.\n",
      "  warnings.warn(\n",
      "/home/pdi_4/anaconda3/envs/CLEDiff/lib/python3.11/site-packages/torchvision/models/_utils.py:223: UserWarning: Arguments other than a weight enum or `None` for 'weights' are deprecated since 0.13 and may be removed in the future. The current behavior is equivalent to passing `weights=Inception_V3_Weights.IMAGENET1K_V1`. You can also use `weights=Inception_V3_Weights.DEFAULT` to get the most up-to-date weights.\n",
      "  warnings.warn(msg)\n",
      "model load weight done.\n",
      "Avaliando Modelo ckpt_1000_final_UIEBHDR+.pt subaquatico UIEB\n",
      "\n",
      "  9%|████                                        | 1/11 [00:20<03:28, 20.82s/it]/home/pdi_4/Documentos/Diffusion-Underwater-Image-Enhancement/metrics/metrics.py:124: RuntimeWarning: divide by zero encountered in divide\n",
      "  mag *= 255.0 / np.max(mag)\n",
      "/home/pdi_4/Documentos/Diffusion-Underwater-Image-Enhancement/metrics/metrics.py:124: RuntimeWarning: invalid value encountered in multiply\n",
      "  mag *= 255.0 / np.max(mag)\n",
      "100%|███████████████████████████████████████████| 11/11 [03:43<00:00, 20.32s/it]\n",
      "77 77 0 77 77 77 77 77\n",
      "Avaliando Modelo ckpt_1000_final_UIEBHDR+.pt atmosferico HDR\n",
      "\n",
      "100%|█████████████████████████████████████████████| 2/2 [00:42<00:00, 21.32s/it]\n",
      "Test completed.\n"
     ]
    }
   ],
   "source": [
    "!python Main.py --pretrained_path \"output/ckpt/ckpt_1000_final_UIEBHDR+.pt\" --underwater_data_name \"UIEB\" --atmospheric_data_name \"HDR\" --state 'eval' --batch_size 7"
   ]
  },
  {
   "cell_type": "markdown",
   "metadata": {},
   "source": [
    "## HICRD HDR+"
   ]
  },
  {
   "cell_type": "code",
   "execution_count": 6,
   "metadata": {},
   "outputs": [
    {
     "name": "stdout",
     "output_type": "stream",
     "text": [
      "Namespace(underwater_data_name='HICRD', atmospheric_data_name='HDR', model='standart', dataset_path='./data/', state='eval', pretrained_path='output/ckpt/ckpt_400_Pre-Training_VGG+Charbonnier_HICRDHDR+.pt', inference_image='', output_path='./output/', wandb=False, wandb_name='HybridDffusion_2', epoch=1000, batch_size=7, DDP=False, stage=0, epochs_stage_3=200, epochs_stage_1=400, epochs_stage_2=400, supervised=True, underwater_dataset_name='UIEB', atmospheric_dataset_name='HDR+', T=1000, channel=64, channel_mult=[1, 2, 2, 2], attn=[2], num_res_blocks=2, dropout=0.15, lr=5e-05, multiplier=2.0, beta_1=0.0001, beta_T=0.02, img_size=32, grad_clip=1.0, device='cuda', device_list=[0, 1], ddim=True, unconditional_guidance_scale=1, ddim_step=100)\n",
      "1000\n",
      "Avaliando modelo\n",
      "model load weight done.\n",
      "output/result/ckpt_400_Pre-Training_VGG+Charbonnier_HICRDHDR+.pt/HDR/ output/result/ckpt_400_Pre-Training_VGG+Charbonnier_HICRDHDR+.pt/HICRD/\n",
      "Save dir underwater for combination HICRDHDR: output/result/ckpt_400_Pre-Training_VGG+Charbonnier_HICRDHDR+.pt/HICRD/\n",
      "Save dir atmospheric for combination HICRDHDR: output/result/ckpt_400_Pre-Training_VGG+Charbonnier_HICRDHDR+.pt/HDR/\n",
      "/home/pdi_4/anaconda3/envs/CLEDiff/lib/python3.11/site-packages/torchvision/models/_utils.py:208: UserWarning: The parameter 'pretrained' is deprecated since 0.13 and may be removed in the future, please use 'weights' instead.\n",
      "  warnings.warn(\n",
      "/home/pdi_4/anaconda3/envs/CLEDiff/lib/python3.11/site-packages/torchvision/models/_utils.py:223: UserWarning: Arguments other than a weight enum or `None` for 'weights' are deprecated since 0.13 and may be removed in the future. The current behavior is equivalent to passing `weights=Inception_V3_Weights.IMAGENET1K_V1`. You can also use `weights=Inception_V3_Weights.DEFAULT` to get the most up-to-date weights.\n",
      "  warnings.warn(msg)\n",
      "model load weight done.\n",
      "Avaliando Modelo ckpt_400_Pre-Training_VGG+Charbonnier_HICRDHDR+.pt subaquatico HICRD\n",
      "\n",
      "  4%|█▊                                          | 1/24 [00:20<08:02, 20.97s/it]/home/pdi_4/anaconda3/envs/CLEDiff/lib/python3.11/site-packages/scipy/linalg/_matfuncs_sqrtm.py:205: RuntimeWarning: invalid value encountered in scalar divide\n",
      "  arg2 = norm(X.dot(X) - A, 'fro')**2 / norm(A, 'fro')\n",
      "100%|███████████████████████████████████████████| 24/24 [07:17<00:00, 18.23s/it]\n",
      "168 168 0 168 168 168 168 168\n",
      "Avaliando Modelo ckpt_400_Pre-Training_VGG+Charbonnier_HICRDHDR+.pt atmosferico HDR\n",
      "\n",
      "100%|█████████████████████████████████████████████| 2/2 [00:43<00:00, 21.80s/it]\n",
      "Test completed.\n"
     ]
    }
   ],
   "source": [
    "!python Main.py --pretrained_path \"output/ckpt/ckpt_400_Pre-Training_VGG+Charbonnier_HICRDHDR+.pt\" --underwater_data_name \"HICRD\" --atmospheric_data_name \"HDR\" --state 'eval' --batch_size 7"
   ]
  },
  {
   "cell_type": "code",
   "execution_count": 8,
   "metadata": {},
   "outputs": [
    {
     "name": "stdout",
     "output_type": "stream",
     "text": [
      "Namespace(underwater_data_name='HICRD', atmospheric_data_name='HDR', model='standart', dataset_path='./data/', state='eval', pretrained_path='output/ckpt/ckpt_800_Enhancement_Training_(Charbonnier+Angular_Color_Loss+MS_SSIM)_HICRDHDR+.pt', inference_image='', output_path='./output/', wandb=False, wandb_name='HybridDffusion_2', epoch=1000, batch_size=7, DDP=False, stage=0, epochs_stage_3=200, epochs_stage_1=400, epochs_stage_2=400, supervised=True, underwater_dataset_name='UIEB', atmospheric_dataset_name='HDR+', T=1000, channel=64, channel_mult=[1, 2, 2, 2], attn=[2], num_res_blocks=2, dropout=0.15, lr=5e-05, multiplier=2.0, beta_1=0.0001, beta_T=0.02, img_size=32, grad_clip=1.0, device='cuda', device_list=[0, 1], ddim=True, unconditional_guidance_scale=1, ddim_step=100)\n",
      "1000\n",
      "Avaliando modelo\n",
      "model load weight done.\n",
      "output/result/ckpt_800_Enhancement_Training_(Charbonnier+Angular_Color_Loss+MS_SSIM)_HICRDHDR+.pt/HDR/ output/result/ckpt_800_Enhancement_Training_(Charbonnier+Angular_Color_Loss+MS_SSIM)_HICRDHDR+.pt/HICRD/\n",
      "Save dir underwater for combination HICRDHDR: output/result/ckpt_800_Enhancement_Training_(Charbonnier+Angular_Color_Loss+MS_SSIM)_HICRDHDR+.pt/HICRD/\n",
      "Save dir atmospheric for combination HICRDHDR: output/result/ckpt_800_Enhancement_Training_(Charbonnier+Angular_Color_Loss+MS_SSIM)_HICRDHDR+.pt/HDR/\n",
      "/home/pdi_4/anaconda3/envs/CLEDiff/lib/python3.11/site-packages/torchvision/models/_utils.py:208: UserWarning: The parameter 'pretrained' is deprecated since 0.13 and may be removed in the future, please use 'weights' instead.\n",
      "  warnings.warn(\n",
      "/home/pdi_4/anaconda3/envs/CLEDiff/lib/python3.11/site-packages/torchvision/models/_utils.py:223: UserWarning: Arguments other than a weight enum or `None` for 'weights' are deprecated since 0.13 and may be removed in the future. The current behavior is equivalent to passing `weights=Inception_V3_Weights.IMAGENET1K_V1`. You can also use `weights=Inception_V3_Weights.DEFAULT` to get the most up-to-date weights.\n",
      "  warnings.warn(msg)\n",
      "model load weight done.\n",
      "Avaliando Modelo ckpt_800_Enhancement_Training_(Charbonnier+Angular_Color_Loss+MS_SSIM)_HICRDHDR+.pt subaquatico HICRD\n",
      "\n",
      "  0%|                                                    | 0/24 [00:00<?, ?it/s]/home/pdi_4/Documentos/Diffusion-Underwater-Image-Enhancement/metrics/metrics.py:124: RuntimeWarning: divide by zero encountered in divide\n",
      "  mag *= 255.0 / np.max(mag)\n",
      "/home/pdi_4/Documentos/Diffusion-Underwater-Image-Enhancement/metrics/metrics.py:124: RuntimeWarning: invalid value encountered in multiply\n",
      "  mag *= 255.0 / np.max(mag)\n",
      "  4%|█▊                                          | 1/24 [00:20<07:54, 20.64s/it]/home/pdi_4/anaconda3/envs/CLEDiff/lib/python3.11/site-packages/scipy/linalg/_matfuncs_sqrtm.py:205: RuntimeWarning: invalid value encountered in scalar divide\n",
      "  arg2 = norm(X.dot(X) - A, 'fro')**2 / norm(A, 'fro')\n",
      "100%|███████████████████████████████████████████| 24/24 [07:05<00:00, 17.75s/it]\n",
      "168 168 0 168 168 168 168 168\n",
      "Avaliando Modelo ckpt_800_Enhancement_Training_(Charbonnier+Angular_Color_Loss+MS_SSIM)_HICRDHDR+.pt atmosferico HDR\n",
      "\n",
      "100%|█████████████████████████████████████████████| 2/2 [00:42<00:00, 21.12s/it]\n",
      "Test completed.\n"
     ]
    }
   ],
   "source": [
    "!python Main.py --pretrained_path \"output/ckpt/ckpt_800_Enhancement_Training_(Charbonnier+Angular_Color_Loss+MS_SSIM)_HICRDHDR+.pt\" --underwater_data_name \"HICRD\" --atmospheric_data_name \"HDR\" --state 'eval' --batch_size 7"
   ]
  },
  {
   "cell_type": "code",
   "execution_count": 9,
   "metadata": {},
   "outputs": [
    {
     "name": "stdout",
     "output_type": "stream",
     "text": [
      "Namespace(underwater_data_name='HICRD', atmospheric_data_name='HDR', model='standart', dataset_path='./data/', state='eval', pretrained_path='output/ckpt/ckpt_1000_final_HICRDHDR+.pt', inference_image='', output_path='./output/', wandb=False, wandb_name='HybridDffusion_2', epoch=1000, batch_size=7, DDP=False, stage=0, epochs_stage_3=200, epochs_stage_1=400, epochs_stage_2=400, supervised=True, underwater_dataset_name='UIEB', atmospheric_dataset_name='HDR+', T=1000, channel=64, channel_mult=[1, 2, 2, 2], attn=[2], num_res_blocks=2, dropout=0.15, lr=5e-05, multiplier=2.0, beta_1=0.0001, beta_T=0.02, img_size=32, grad_clip=1.0, device='cuda', device_list=[0, 1], ddim=True, unconditional_guidance_scale=1, ddim_step=100)\n",
      "1000\n",
      "Avaliando modelo\n",
      "model load weight done.\n",
      "output/result/ckpt_1000_final_HICRDHDR+.pt/HDR/ output/result/ckpt_1000_final_HICRDHDR+.pt/HICRD/\n",
      "Save dir underwater for combination HICRDHDR: output/result/ckpt_1000_final_HICRDHDR+.pt/HICRD/\n",
      "Save dir atmospheric for combination HICRDHDR: output/result/ckpt_1000_final_HICRDHDR+.pt/HDR/\n",
      "/home/pdi_4/anaconda3/envs/CLEDiff/lib/python3.11/site-packages/torchvision/models/_utils.py:208: UserWarning: The parameter 'pretrained' is deprecated since 0.13 and may be removed in the future, please use 'weights' instead.\n",
      "  warnings.warn(\n",
      "/home/pdi_4/anaconda3/envs/CLEDiff/lib/python3.11/site-packages/torchvision/models/_utils.py:223: UserWarning: Arguments other than a weight enum or `None` for 'weights' are deprecated since 0.13 and may be removed in the future. The current behavior is equivalent to passing `weights=Inception_V3_Weights.IMAGENET1K_V1`. You can also use `weights=Inception_V3_Weights.DEFAULT` to get the most up-to-date weights.\n",
      "  warnings.warn(msg)\n",
      "model load weight done.\n",
      "Avaliando Modelo ckpt_1000_final_HICRDHDR+.pt subaquatico HICRD\n",
      "\n",
      "  4%|█▊                                          | 1/24 [00:20<07:45, 20.22s/it]/home/pdi_4/anaconda3/envs/CLEDiff/lib/python3.11/site-packages/scipy/linalg/_matfuncs_sqrtm.py:205: RuntimeWarning: invalid value encountered in scalar divide\n",
      "  arg2 = norm(X.dot(X) - A, 'fro')**2 / norm(A, 'fro')\n",
      "100%|███████████████████████████████████████████| 24/24 [07:04<00:00, 17.70s/it]\n",
      "168 168 0 168 168 168 168 168\n",
      "Avaliando Modelo ckpt_1000_final_HICRDHDR+.pt atmosferico HDR\n",
      "\n",
      "100%|█████████████████████████████████████████████| 2/2 [00:42<00:00, 21.02s/it]\n",
      "Test completed.\n"
     ]
    }
   ],
   "source": [
    "!python Main.py --pretrained_path \"output/ckpt/ckpt_1000_final_HICRDHDR+.pt\" --underwater_data_name \"HICRD\" --atmospheric_data_name \"HDR\" --state 'eval' --batch_size 7 "
   ]
  },
  {
   "cell_type": "markdown",
   "metadata": {},
   "source": [
    "# Teste no Modelo para ICAR"
   ]
  },
  {
   "cell_type": "markdown",
   "metadata": {},
   "source": []
  }
 ],
 "metadata": {
  "kernelspec": {
   "display_name": "CLEDiff",
   "language": "python",
   "name": "python3"
  },
  "language_info": {
   "codemirror_mode": {
    "name": "ipython",
    "version": 3
   },
   "file_extension": ".py",
   "mimetype": "text/x-python",
   "name": "python",
   "nbconvert_exporter": "python",
   "pygments_lexer": "ipython3",
   "version": "3.11.0"
  }
 },
 "nbformat": 4,
 "nbformat_minor": 2
}
